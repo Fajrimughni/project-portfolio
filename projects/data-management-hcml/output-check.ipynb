{
 "cells": [
  {
   "cell_type": "code",
   "execution_count": 1,
   "id": "a563830e",
   "metadata": {},
   "outputs": [],
   "source": [
    "import pandas as pd"
   ]
  },
  {
   "cell_type": "code",
   "execution_count": 9,
   "id": "2989e459",
   "metadata": {},
   "outputs": [],
   "source": [
    "df1 = pd.read_csv(\"data_downloads_cleaned.csv\")"
   ]
  },
  {
   "cell_type": "code",
   "execution_count": 7,
   "id": "0659f47f",
   "metadata": {},
   "outputs": [],
   "source": [
    "df2 = pd.read_csv(\"document-filetype_prediction_testset.csv\")"
   ]
  },
  {
   "cell_type": "code",
   "execution_count": 11,
   "id": "2185068a",
   "metadata": {},
   "outputs": [
    {
     "data": {
      "text/plain": [
       "Index(['FileName', 'FileExt', 'DateModified', 'Size_KB', 'Size_GB', 'Source',\n",
       "       'Path', 'SimplePath', 'ParentPath', 'FileNameClean', 'FileType', 'Year',\n",
       "       'Month', 'UsiaDokumen', 'Size_MB', 'SizeCategory', 'Source_Class',\n",
       "       'Path_modified', 'Folder_Root', 'Subfolder_L2', 'Subfolder_L3',\n",
       "       'Subfolder_L4', 'Subfolder_L5', 'Subfolder_L6', 'Filename',\n",
       "       'Path_Class', 'Path_Anomali', 'Path_Uniform'],\n",
       "      dtype='object')"
      ]
     },
     "execution_count": 11,
     "metadata": {},
     "output_type": "execute_result"
    }
   ],
   "source": [
    "df1.columns"
   ]
  },
  {
   "cell_type": "code",
   "execution_count": 5,
   "id": "cbdaae5e",
   "metadata": {},
   "outputs": [
    {
     "data": {
      "text/html": [
       "<div>\n",
       "<style scoped>\n",
       "    .dataframe tbody tr th:only-of-type {\n",
       "        vertical-align: middle;\n",
       "    }\n",
       "\n",
       "    .dataframe tbody tr th {\n",
       "        vertical-align: top;\n",
       "    }\n",
       "\n",
       "    .dataframe thead th {\n",
       "        text-align: right;\n",
       "    }\n",
       "</style>\n",
       "<table border=\"1\" class=\"dataframe\">\n",
       "  <thead>\n",
       "    <tr style=\"text-align: right;\">\n",
       "      <th></th>\n",
       "      <th>FileNameClean</th>\n",
       "      <th>FileExt_encoded</th>\n",
       "      <th>SimplePath_encoded</th>\n",
       "      <th>Size_KB</th>\n",
       "      <th>FileType</th>\n",
       "      <th>FileType_predicted</th>\n",
       "    </tr>\n",
       "  </thead>\n",
       "  <tbody>\n",
       "    <tr>\n",
       "      <th>0</th>\n",
       "      <td>Desktop</td>\n",
       "      <td>54</td>\n",
       "      <td>5387</td>\n",
       "      <td>0.28</td>\n",
       "      <td>system</td>\n",
       "      <td>code</td>\n",
       "    </tr>\n",
       "    <tr>\n",
       "      <th>1</th>\n",
       "      <td>Googledrivesetup</td>\n",
       "      <td>34</td>\n",
       "      <td>365</td>\n",
       "      <td>331614.59</td>\n",
       "      <td>system</td>\n",
       "      <td>system</td>\n",
       "    </tr>\n",
       "    <tr>\n",
       "      <th>2</th>\n",
       "      <td>Cover Letter Graduate 2025 Mott Macdonald</td>\n",
       "      <td>82</td>\n",
       "      <td>182</td>\n",
       "      <td>74.41</td>\n",
       "      <td>document</td>\n",
       "      <td>document</td>\n",
       "    </tr>\n",
       "    <tr>\n",
       "      <th>3</th>\n",
       "      <td>Hcml Well Sample</td>\n",
       "      <td>131</td>\n",
       "      <td>366</td>\n",
       "      <td>275.54</td>\n",
       "      <td>spreadsheet</td>\n",
       "      <td>spreadsheet</td>\n",
       "    </tr>\n",
       "    <tr>\n",
       "      <th>4</th>\n",
       "      <td>Document Location Number List Final 01 Eko Aut...</td>\n",
       "      <td>131</td>\n",
       "      <td>221</td>\n",
       "      <td>1921.30</td>\n",
       "      <td>spreadsheet</td>\n",
       "      <td>spreadsheet</td>\n",
       "    </tr>\n",
       "    <tr>\n",
       "      <th>...</th>\n",
       "      <td>...</td>\n",
       "      <td>...</td>\n",
       "      <td>...</td>\n",
       "      <td>...</td>\n",
       "      <td>...</td>\n",
       "      <td>...</td>\n",
       "    </tr>\n",
       "    <tr>\n",
       "      <th>7563</th>\n",
       "      <td>7 Penggunaan Lahan</td>\n",
       "      <td>82</td>\n",
       "      <td>5005</td>\n",
       "      <td>2045.92</td>\n",
       "      <td>document</td>\n",
       "      <td>document</td>\n",
       "    </tr>\n",
       "    <tr>\n",
       "      <th>7564</th>\n",
       "      <td>4 Gunungapi</td>\n",
       "      <td>82</td>\n",
       "      <td>5002</td>\n",
       "      <td>1533.31</td>\n",
       "      <td>document</td>\n",
       "      <td>document</td>\n",
       "    </tr>\n",
       "    <tr>\n",
       "      <th>7565</th>\n",
       "      <td>1 Kelas Lereng</td>\n",
       "      <td>82</td>\n",
       "      <td>4999</td>\n",
       "      <td>2025.40</td>\n",
       "      <td>document</td>\n",
       "      <td>document</td>\n",
       "    </tr>\n",
       "    <tr>\n",
       "      <th>7566</th>\n",
       "      <td>5 Pengamatan</td>\n",
       "      <td>82</td>\n",
       "      <td>5003</td>\n",
       "      <td>1617.38</td>\n",
       "      <td>document</td>\n",
       "      <td>document</td>\n",
       "    </tr>\n",
       "    <tr>\n",
       "      <th>7567</th>\n",
       "      <td>6 Curah Hujan</td>\n",
       "      <td>82</td>\n",
       "      <td>5004</td>\n",
       "      <td>1618.46</td>\n",
       "      <td>document</td>\n",
       "      <td>document</td>\n",
       "    </tr>\n",
       "  </tbody>\n",
       "</table>\n",
       "<p>7568 rows × 6 columns</p>\n",
       "</div>"
      ],
      "text/plain": [
       "                                          FileNameClean  FileExt_encoded  \\\n",
       "0                                               Desktop               54   \n",
       "1                                      Googledrivesetup               34   \n",
       "2             Cover Letter Graduate 2025 Mott Macdonald               82   \n",
       "3                                      Hcml Well Sample              131   \n",
       "4     Document Location Number List Final 01 Eko Aut...              131   \n",
       "...                                                 ...              ...   \n",
       "7563                                 7 Penggunaan Lahan               82   \n",
       "7564                                        4 Gunungapi               82   \n",
       "7565                                     1 Kelas Lereng               82   \n",
       "7566                                       5 Pengamatan               82   \n",
       "7567                                      6 Curah Hujan               82   \n",
       "\n",
       "      SimplePath_encoded    Size_KB     FileType FileType_predicted  \n",
       "0                   5387       0.28       system               code  \n",
       "1                    365  331614.59       system             system  \n",
       "2                    182      74.41     document           document  \n",
       "3                    366     275.54  spreadsheet        spreadsheet  \n",
       "4                    221    1921.30  spreadsheet        spreadsheet  \n",
       "...                  ...        ...          ...                ...  \n",
       "7563                5005    2045.92     document           document  \n",
       "7564                5002    1533.31     document           document  \n",
       "7565                4999    2025.40     document           document  \n",
       "7566                5003    1617.38     document           document  \n",
       "7567                5004    1618.46     document           document  \n",
       "\n",
       "[7568 rows x 6 columns]"
      ]
     },
     "execution_count": 5,
     "metadata": {},
     "output_type": "execute_result"
    }
   ],
   "source": [
    "df2"
   ]
  },
  {
   "cell_type": "code",
   "execution_count": 20,
   "id": "c64fcbb9",
   "metadata": {},
   "outputs": [],
   "source": [
    "# Jika ingin hasil akhir berupa DataFrame\n",
    "df_filetype = pd.concat([df1['FileType'].reset_index(drop=True),\n",
    "                         df2['FileType_predicted'].reset_index(drop=True), df2['FileNameClean'].reset_index(drop=True)],\n",
    "                        axis=1)"
   ]
  },
  {
   "cell_type": "code",
   "execution_count": 21,
   "id": "1fa511cd",
   "metadata": {},
   "outputs": [
    {
     "data": {
      "text/html": [
       "<div>\n",
       "<style scoped>\n",
       "    .dataframe tbody tr th:only-of-type {\n",
       "        vertical-align: middle;\n",
       "    }\n",
       "\n",
       "    .dataframe tbody tr th {\n",
       "        vertical-align: top;\n",
       "    }\n",
       "\n",
       "    .dataframe thead th {\n",
       "        text-align: right;\n",
       "    }\n",
       "</style>\n",
       "<table border=\"1\" class=\"dataframe\">\n",
       "  <thead>\n",
       "    <tr style=\"text-align: right;\">\n",
       "      <th></th>\n",
       "      <th>FileType</th>\n",
       "      <th>FileType_predicted</th>\n",
       "      <th>FileNameClean</th>\n",
       "    </tr>\n",
       "  </thead>\n",
       "  <tbody>\n",
       "    <tr>\n",
       "      <th>0</th>\n",
       "      <td>system</td>\n",
       "      <td>code</td>\n",
       "      <td>Desktop</td>\n",
       "    </tr>\n",
       "    <tr>\n",
       "      <th>1</th>\n",
       "      <td>system</td>\n",
       "      <td>system</td>\n",
       "      <td>Googledrivesetup</td>\n",
       "    </tr>\n",
       "    <tr>\n",
       "      <th>2</th>\n",
       "      <td>document</td>\n",
       "      <td>document</td>\n",
       "      <td>Cover Letter Graduate 2025 Mott Macdonald</td>\n",
       "    </tr>\n",
       "    <tr>\n",
       "      <th>3</th>\n",
       "      <td>spreadsheet</td>\n",
       "      <td>spreadsheet</td>\n",
       "      <td>Hcml Well Sample</td>\n",
       "    </tr>\n",
       "    <tr>\n",
       "      <th>4</th>\n",
       "      <td>spreadsheet</td>\n",
       "      <td>spreadsheet</td>\n",
       "      <td>Document Location Number List Final 01 Eko Aut...</td>\n",
       "    </tr>\n",
       "    <tr>\n",
       "      <th>...</th>\n",
       "      <td>...</td>\n",
       "      <td>...</td>\n",
       "      <td>...</td>\n",
       "    </tr>\n",
       "    <tr>\n",
       "      <th>7563</th>\n",
       "      <td>document</td>\n",
       "      <td>document</td>\n",
       "      <td>7 Penggunaan Lahan</td>\n",
       "    </tr>\n",
       "    <tr>\n",
       "      <th>7564</th>\n",
       "      <td>document</td>\n",
       "      <td>document</td>\n",
       "      <td>4 Gunungapi</td>\n",
       "    </tr>\n",
       "    <tr>\n",
       "      <th>7565</th>\n",
       "      <td>document</td>\n",
       "      <td>document</td>\n",
       "      <td>1 Kelas Lereng</td>\n",
       "    </tr>\n",
       "    <tr>\n",
       "      <th>7566</th>\n",
       "      <td>document</td>\n",
       "      <td>document</td>\n",
       "      <td>5 Pengamatan</td>\n",
       "    </tr>\n",
       "    <tr>\n",
       "      <th>7567</th>\n",
       "      <td>document</td>\n",
       "      <td>document</td>\n",
       "      <td>6 Curah Hujan</td>\n",
       "    </tr>\n",
       "  </tbody>\n",
       "</table>\n",
       "<p>7568 rows × 3 columns</p>\n",
       "</div>"
      ],
      "text/plain": [
       "         FileType FileType_predicted  \\\n",
       "0          system               code   \n",
       "1          system             system   \n",
       "2        document           document   \n",
       "3     spreadsheet        spreadsheet   \n",
       "4     spreadsheet        spreadsheet   \n",
       "...           ...                ...   \n",
       "7563     document           document   \n",
       "7564     document           document   \n",
       "7565     document           document   \n",
       "7566     document           document   \n",
       "7567     document           document   \n",
       "\n",
       "                                          FileNameClean  \n",
       "0                                               Desktop  \n",
       "1                                      Googledrivesetup  \n",
       "2             Cover Letter Graduate 2025 Mott Macdonald  \n",
       "3                                      Hcml Well Sample  \n",
       "4     Document Location Number List Final 01 Eko Aut...  \n",
       "...                                                 ...  \n",
       "7563                                 7 Penggunaan Lahan  \n",
       "7564                                        4 Gunungapi  \n",
       "7565                                     1 Kelas Lereng  \n",
       "7566                                       5 Pengamatan  \n",
       "7567                                      6 Curah Hujan  \n",
       "\n",
       "[7568 rows x 3 columns]"
      ]
     },
     "execution_count": 21,
     "metadata": {},
     "output_type": "execute_result"
    }
   ],
   "source": [
    "df_filetype"
   ]
  },
  {
   "cell_type": "code",
   "execution_count": 22,
   "id": "9d29cbb9",
   "metadata": {},
   "outputs": [
    {
     "data": {
      "text/plain": [
       "FileType\n",
       "gis             2679\n",
       "image           1049\n",
       "document         701\n",
       "data             673\n",
       "unknown          547\n",
       "system           375\n",
       "web              336\n",
       "spreadsheet      270\n",
       "text             244\n",
       "package          216\n",
       "project          171\n",
       "video             68\n",
       "archive           65\n",
       "audio             49\n",
       "cad               33\n",
       "design            26\n",
       "config            17\n",
       "code              16\n",
       "presentation      15\n",
       "geoscience        11\n",
       "notebook           3\n",
       "security           2\n",
       "subtitle           2\n",
       "Name: count, dtype: int64"
      ]
     },
     "execution_count": 22,
     "metadata": {},
     "output_type": "execute_result"
    }
   ],
   "source": [
    "df_filetype['FileType'].value_counts()"
   ]
  },
  {
   "cell_type": "code",
   "execution_count": 17,
   "id": "5c84d3e3",
   "metadata": {},
   "outputs": [
    {
     "data": {
      "text/plain": [
       "FileType_predicted\n",
       "gis             2680\n",
       "image           1048\n",
       "document         705\n",
       "data             672\n",
       "unknown          548\n",
       "system           379\n",
       "web              338\n",
       "spreadsheet      274\n",
       "text             241\n",
       "package          218\n",
       "project          170\n",
       "video             68\n",
       "archive           63\n",
       "audio             47\n",
       "cad               31\n",
       "design            25\n",
       "config            17\n",
       "code              14\n",
       "presentation      12\n",
       "geoscience        10\n",
       "notebook           3\n",
       "subtitle           3\n",
       "security           2\n",
       "Name: count, dtype: int64"
      ]
     },
     "execution_count": 17,
     "metadata": {},
     "output_type": "execute_result"
    }
   ],
   "source": [
    "df_filetype['FileType_predicted'].value_counts()"
   ]
  },
  {
   "cell_type": "code",
   "execution_count": 23,
   "id": "e3caed83",
   "metadata": {},
   "outputs": [
    {
     "name": "stdout",
     "output_type": "stream",
     "text": [
      "Jumlah prediksi yang tidak cocok: 32 dari 7568 baris\n"
     ]
    }
   ],
   "source": [
    "mismatch = df_filetype['FileType'] != df_filetype['FileType_predicted']\n",
    "num_mismatches = mismatch.sum()\n",
    "print(f\"Jumlah prediksi yang tidak cocok: {num_mismatches} dari {len(df_filetype)} baris\")\n"
   ]
  },
  {
   "cell_type": "code",
   "execution_count": 24,
   "id": "3f3db2f2",
   "metadata": {},
   "outputs": [
    {
     "name": "stdout",
     "output_type": "stream",
     "text": [
      "         FileType FileType_predicted  \\\n",
      "0          system               code   \n",
      "155           gis             system   \n",
      "168           cad             system   \n",
      "278           web                gis   \n",
      "545  presentation              video   \n",
      "\n",
      "                                         FileNameClean  \n",
      "0                                              Desktop  \n",
      "155                                   Top Layer Kujung  \n",
      "168                       Contour Top Reservoir Kujung  \n",
      "278                                         Stylesheet  \n",
      "545  Final Paper Publication From Hcml Employee 202...  \n"
     ]
    }
   ],
   "source": [
    "df_mismatched = df_filetype[mismatch]\n",
    "print(df_mismatched.head())"
   ]
  },
  {
   "cell_type": "code",
   "execution_count": 25,
   "id": "45f84a37",
   "metadata": {},
   "outputs": [
    {
     "data": {
      "text/html": [
       "<div>\n",
       "<style scoped>\n",
       "    .dataframe tbody tr th:only-of-type {\n",
       "        vertical-align: middle;\n",
       "    }\n",
       "\n",
       "    .dataframe tbody tr th {\n",
       "        vertical-align: top;\n",
       "    }\n",
       "\n",
       "    .dataframe thead th {\n",
       "        text-align: right;\n",
       "    }\n",
       "</style>\n",
       "<table border=\"1\" class=\"dataframe\">\n",
       "  <thead>\n",
       "    <tr style=\"text-align: right;\">\n",
       "      <th></th>\n",
       "      <th>FileType</th>\n",
       "      <th>FileType_predicted</th>\n",
       "      <th>FileNameClean</th>\n",
       "    </tr>\n",
       "  </thead>\n",
       "  <tbody>\n",
       "    <tr>\n",
       "      <th>0</th>\n",
       "      <td>system</td>\n",
       "      <td>code</td>\n",
       "      <td>Desktop</td>\n",
       "    </tr>\n",
       "    <tr>\n",
       "      <th>155</th>\n",
       "      <td>gis</td>\n",
       "      <td>system</td>\n",
       "      <td>Top Layer Kujung</td>\n",
       "    </tr>\n",
       "    <tr>\n",
       "      <th>168</th>\n",
       "      <td>cad</td>\n",
       "      <td>system</td>\n",
       "      <td>Contour Top Reservoir Kujung</td>\n",
       "    </tr>\n",
       "    <tr>\n",
       "      <th>278</th>\n",
       "      <td>web</td>\n",
       "      <td>gis</td>\n",
       "      <td>Stylesheet</td>\n",
       "    </tr>\n",
       "    <tr>\n",
       "      <th>545</th>\n",
       "      <td>presentation</td>\n",
       "      <td>video</td>\n",
       "      <td>Final Paper Publication From Hcml Employee 202...</td>\n",
       "    </tr>\n",
       "  </tbody>\n",
       "</table>\n",
       "</div>"
      ],
      "text/plain": [
       "         FileType FileType_predicted  \\\n",
       "0          system               code   \n",
       "155           gis             system   \n",
       "168           cad             system   \n",
       "278           web                gis   \n",
       "545  presentation              video   \n",
       "\n",
       "                                         FileNameClean  \n",
       "0                                              Desktop  \n",
       "155                                   Top Layer Kujung  \n",
       "168                       Contour Top Reservoir Kujung  \n",
       "278                                         Stylesheet  \n",
       "545  Final Paper Publication From Hcml Employee 202...  "
      ]
     },
     "execution_count": 25,
     "metadata": {},
     "output_type": "execute_result"
    }
   ],
   "source": [
    "df_mismatched.head()"
   ]
  },
  {
   "cell_type": "markdown",
   "id": "dc3456b1",
   "metadata": {},
   "source": [
    "jadi pakai FileType, Tanpa Machine Learning-tp pakai manual"
   ]
  },
  {
   "cell_type": "code",
   "execution_count": null,
   "id": "cfea7910",
   "metadata": {},
   "outputs": [],
   "source": []
  }
 ],
 "metadata": {
  "kernelspec": {
   "display_name": "base",
   "language": "python",
   "name": "python3"
  },
  "language_info": {
   "codemirror_mode": {
    "name": "ipython",
    "version": 3
   },
   "file_extension": ".py",
   "mimetype": "text/x-python",
   "name": "python",
   "nbconvert_exporter": "python",
   "pygments_lexer": "ipython3",
   "version": "3.12.4"
  }
 },
 "nbformat": 4,
 "nbformat_minor": 5
}
