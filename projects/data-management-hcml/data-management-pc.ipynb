{
 "cells": [
  {
   "cell_type": "markdown",
   "id": "37498c99",
   "metadata": {},
   "source": [
    "# Input Library"
   ]
  },
  {
   "cell_type": "code",
   "execution_count": 1,
   "id": "e382b126",
   "metadata": {},
   "outputs": [],
   "source": [
    "import os          # untuk navigasi dan manipulasi file/direktori\n",
    "import shutil      # untuk memindahkan/menyalin file\n",
    "import pathlib     # untuk manajemen path yang lebih modern\n",
    "import pandas as pd    # jika kamu memproses data (misalnya .csv, .xlsx)\n",
    "from pathlib import Path\n",
    "import datetime\n",
    "import re\n",
    "import matplotlib.pyplot as plt\n",
    "import numpy as np\n",
    "from datetime import datetime\n",
    "import preprocessing_utils as pu"
   ]
  },
  {
   "cell_type": "code",
   "execution_count": 1,
   "id": "b7cd3bc2",
   "metadata": {},
   "outputs": [],
   "source": [
    "# RUN_MODE = \"prod\"  # atau \"debug\"\n",
    "\n",
    "# if RUN_MODE == \"debug\":\n",
    "#     print(\"Debug cell\")"
   ]
  },
  {
   "cell_type": "markdown",
   "id": "2eda0abf",
   "metadata": {},
   "source": [
    "# Input Direktori Folder"
   ]
  },
  {
   "cell_type": "code",
   "execution_count": 3,
   "id": "3fa50b2c",
   "metadata": {},
   "outputs": [],
   "source": [
    "# # Direktori Downloads\n",
    "# downloads_dir = Path(r\"C:\\Users\\ASUS\\Downloads\")\n",
    "# downloads_info = []\n",
    "\n",
    "# # Direktori Documents\n",
    "# documents_dir = Path(r\"C:\\Users\\ASUS\\OneDrive\\Documents\")\n",
    "# documents_info = []"
   ]
  },
  {
   "cell_type": "markdown",
   "id": "49eabe01",
   "metadata": {},
   "source": [
    "# Output Folder"
   ]
  },
  {
   "cell_type": "code",
   "execution_count": 4,
   "id": "fd8ffaf6",
   "metadata": {},
   "outputs": [],
   "source": [
    "# # Folder output utama\n",
    "# output_dir = Path(\"Output\")\n",
    "# output_dir.mkdir(exist_ok=True)"
   ]
  },
  {
   "cell_type": "markdown",
   "id": "0d8f20d4",
   "metadata": {},
   "source": [
    "# Ekstraksi Dataframe"
   ]
  },
  {
   "cell_type": "code",
   "execution_count": 5,
   "id": "39011d47",
   "metadata": {},
   "outputs": [],
   "source": [
    "# # List untuk menyimpan info file\n",
    "# file_info = []"
   ]
  },
  {
   "cell_type": "code",
   "execution_count": 6,
   "id": "29bd8ee2",
   "metadata": {},
   "outputs": [],
   "source": [
    "def extract_file_info(file_path, source_label):\n",
    "    stat = file_path.stat()\n",
    "    size_kb = stat.st_size / 1024\n",
    "    size_gb = stat.st_size / (1024 ** 3)\n",
    "    \n",
    "    # Buat path yang lebih sederhana: hanya relatif ke root_dir\n",
    "    try:\n",
    "        simple_path = file_path.relative_to(file_path.anchor)\n",
    "    except ValueError:\n",
    "        simple_path = file_path.name  # fallback jika error\n",
    "\n",
    "    return {\n",
    "        \"FileName\": file_path.stem,\n",
    "        \"FileExt\": file_path.suffix.lower(),\n",
    "        \"DateModified\": datetime.datetime.fromtimestamp(stat.st_mtime),\n",
    "        \"Size_KB\": round(size_kb, 2),\n",
    "        \"Size_GB\": round(size_gb, 4),\n",
    "        \"Source\": source_label,\n",
    "        \"Path\": str(file_path),\n",
    "        \"SimplePath\": str(simple_path),\n",
    "        \"ParentPath\": str(file_path.parent)\n",
    "    }"
   ]
  },
  {
   "cell_type": "markdown",
   "id": "03c81df7",
   "metadata": {},
   "source": [
    "## Ekstrak Metadata dari Folder Downloads"
   ]
  },
  {
   "cell_type": "code",
   "execution_count": 7,
   "id": "c34221b6",
   "metadata": {},
   "outputs": [],
   "source": [
    "# # Loop semua file dalam Downloads (rekursif)\n",
    "# for file in downloads_dir.rglob(\"*\"):\n",
    "#     if file.is_file():\n",
    "#         downloads_info.append(extract_file_info(file, \"Downloads\"))"
   ]
  },
  {
   "cell_type": "code",
   "execution_count": 8,
   "id": "8a098576",
   "metadata": {},
   "outputs": [],
   "source": [
    "# # Konversi ke DataFrame\n",
    "# df_downloads = pd.DataFrame(downloads_info)\n",
    "# df_downloads.sort_values(by=\"DateModified\", ascending=False, inplace=True)"
   ]
  },
  {
   "cell_type": "code",
   "execution_count": 9,
   "id": "7d73b32f",
   "metadata": {},
   "outputs": [],
   "source": [
    "# df_downloads"
   ]
  },
  {
   "cell_type": "code",
   "execution_count": 10,
   "id": "f5839312",
   "metadata": {},
   "outputs": [],
   "source": [
    "# # Simpan ke CSV\n",
    "# df_downloads.to_csv(output_dir / \"folder-downloads-metadata.csv\", index=False)\n",
    "# print(\"Metadata dari Downloads berhasil disimpan ke 'Output/folder-downloads-metadata.csv'\")"
   ]
  },
  {
   "cell_type": "markdown",
   "id": "4b3dfe19",
   "metadata": {},
   "source": [
    "## Ekstrak Metadata dari Folder Documents"
   ]
  },
  {
   "cell_type": "code",
   "execution_count": 11,
   "id": "ecbf690e",
   "metadata": {},
   "outputs": [],
   "source": [
    "# # Loop semua file dalam Documents (rekursif)\n",
    "# for file in documents_dir.rglob(\"*\"):\n",
    "#     if file.is_file():\n",
    "#         documents_info.append(extract_file_info(file, \"Documents\"))"
   ]
  },
  {
   "cell_type": "code",
   "execution_count": 12,
   "id": "d533e3f9",
   "metadata": {},
   "outputs": [],
   "source": [
    "# # Konversi ke DataFrame\n",
    "# df_documents = pd.DataFrame(documents_info)"
   ]
  },
  {
   "cell_type": "code",
   "execution_count": 13,
   "id": "393903c2",
   "metadata": {},
   "outputs": [],
   "source": [
    "# df_documents"
   ]
  },
  {
   "cell_type": "code",
   "execution_count": 14,
   "id": "c225c5d7",
   "metadata": {},
   "outputs": [],
   "source": [
    "# # Simpan ke CSV\n",
    "# df_documents.to_csv(output_dir / \"folder-documents-metadata.csv\", index=False)\n",
    "# print(\"Metadata dari Documents berhasil disimpan ke 'Output/folder-documents-metadata.csv'\")"
   ]
  },
  {
   "cell_type": "markdown",
   "id": "3d652d78",
   "metadata": {},
   "source": [
    "# Input Dataframe dari CSV"
   ]
  },
  {
   "cell_type": "code",
   "execution_count": 15,
   "id": "b7fc6cf5",
   "metadata": {},
   "outputs": [],
   "source": [
    "# df_documents = pd.read_csv(\"folder-documents-metadata.csv\")"
   ]
  },
  {
   "cell_type": "code",
   "execution_count": 16,
   "id": "84503df3",
   "metadata": {},
   "outputs": [],
   "source": [
    "# df_documents.columns"
   ]
  },
  {
   "cell_type": "code",
   "execution_count": 2,
   "id": "6fb8da15",
   "metadata": {},
   "outputs": [],
   "source": [
    "df_downloads = pd.read_csv(\"folder-downloads-metadata.csv\")"
   ]
  },
  {
   "cell_type": "code",
   "execution_count": 3,
   "id": "ba20b879",
   "metadata": {},
   "outputs": [
    {
     "data": {
      "text/plain": [
       "Index(['FileName', 'FileExt', 'DateModified', 'Size_KB', 'Size_GB', 'Source',\n",
       "       'Path', 'SimplePath', 'ParentPath'],\n",
       "      dtype='object')"
      ]
     },
     "execution_count": 3,
     "metadata": {},
     "output_type": "execute_result"
    }
   ],
   "source": [
    "df_downloads.columns"
   ]
  },
  {
   "cell_type": "markdown",
   "id": "83cf80e1",
   "metadata": {},
   "source": [
    "# Pre-Processing Data Document Folder"
   ]
  },
  {
   "cell_type": "markdown",
   "id": "d8b13516",
   "metadata": {},
   "source": [
    "## Pre-Processing FileName"
   ]
  },
  {
   "cell_type": "markdown",
   "id": "f8584abe",
   "metadata": {},
   "source": [
    "Tujuan:\n",
    "1. Menghapus karakter asing/simbol tidak penting\n",
    "2. Menghapus spasi berlebih\n",
    "3. Normalisasi huruf (lowercase/titlecase)\n",
    "4. (Opsional) Tambah kolom baru seperti versi bersihnya (FileNameClean)"
   ]
  },
  {
   "cell_type": "code",
   "execution_count": 19,
   "id": "2bfad726",
   "metadata": {},
   "outputs": [
    {
     "ename": "NameError",
     "evalue": "name 'df_documents' is not defined",
     "output_type": "error",
     "traceback": [
      "\u001b[31m---------------------------------------------------------------------------\u001b[39m",
      "\u001b[31mNameError\u001b[39m                                 Traceback (most recent call last)",
      "\u001b[36mCell\u001b[39m\u001b[36m \u001b[39m\u001b[32mIn[19]\u001b[39m\u001b[32m, line 2\u001b[39m\n\u001b[32m      1\u001b[39m \u001b[38;5;66;03m# Salin dulu biar tidak merusak kolom asli\u001b[39;00m\n\u001b[32m----> \u001b[39m\u001b[32m2\u001b[39m df_documents[\u001b[33m'\u001b[39m\u001b[33mFileNameClean\u001b[39m\u001b[33m'\u001b[39m] = \u001b[43mdf_documents\u001b[49m[\u001b[33m'\u001b[39m\u001b[33mFileName\u001b[39m\u001b[33m'\u001b[39m]\n",
      "\u001b[31mNameError\u001b[39m: name 'df_documents' is not defined"
     ]
    }
   ],
   "source": [
    "# Salin dulu biar tidak merusak kolom asli\n",
    "df_documents['FileNameClean'] = df_documents['FileName']"
   ]
  },
  {
   "cell_type": "code",
   "execution_count": null,
   "id": "d614de18",
   "metadata": {},
   "outputs": [],
   "source": [
    "# Hilangkan karakter tidak penting (misal: _ - () [])\n",
    "df_documents['FileNameClean'] = df_documents['FileNameClean'].str.replace(r'[\\[\\]\\(\\)\\{\\}_\\-]', ' ', regex=True)"
   ]
  },
  {
   "cell_type": "code",
   "execution_count": null,
   "id": "520ced0e",
   "metadata": {},
   "outputs": [],
   "source": [
    "# Hilangkan simbol selain huruf/angka/spasi\n",
    "df_documents['FileNameClean'] = df_documents['FileNameClean'].str.replace(r'[^\\w\\s]', '', regex=True)"
   ]
  },
  {
   "cell_type": "code",
   "execution_count": null,
   "id": "b8e92a24",
   "metadata": {},
   "outputs": [],
   "source": [
    "# Ubah multiple space jadi satu spasi\n",
    "df_documents['FileNameClean'] = df_documents['FileNameClean'].str.replace(r'\\s+', ' ', regex=True)"
   ]
  },
  {
   "cell_type": "code",
   "execution_count": null,
   "id": "b2d17459",
   "metadata": {},
   "outputs": [],
   "source": [
    "# Trim spasi di awal dan akhir\n",
    "df_documents['FileNameClean'] = df_documents['FileNameClean'].str.strip()"
   ]
  },
  {
   "cell_type": "code",
   "execution_count": null,
   "id": "00d20140",
   "metadata": {},
   "outputs": [],
   "source": [
    "# Ubah menjadi huruf kecil atau kapitalisasi\n",
    "df_documents['FileNameClean'] = df_documents['FileNameClean'].str.title()"
   ]
  },
  {
   "cell_type": "code",
   "execution_count": null,
   "id": "9a931eac",
   "metadata": {},
   "outputs": [
    {
     "data": {
      "text/plain": [
       "86                                       Ipc\n",
       "458            Cover Letter For Kideco Fajri\n",
       "237                                    Tcc64\n",
       "644      Draft Interview Fajri For Mt At Ymt\n",
       "588    Ijazah Fajri Compressed Kurang 500 Kb\n",
       "Name: FileNameClean, dtype: object"
      ]
     },
     "execution_count": 24,
     "metadata": {},
     "output_type": "execute_result"
    }
   ],
   "source": [
    "df_documents['FileNameClean'].sample(5)"
   ]
  },
  {
   "cell_type": "markdown",
   "id": "3bb3a044",
   "metadata": {},
   "source": [
    "### Modular Function for FileName"
   ]
  },
  {
   "cell_type": "code",
   "execution_count": null,
   "id": "b1d47bcc",
   "metadata": {},
   "outputs": [],
   "source": [
    "# import pandas as pd\n",
    "\n",
    "# def clean_filename_column(df, source_col='FileName', new_col='FileNameClean', to_lower=False, to_title=True):\n",
    "#     \"\"\"\n",
    "#     Membersihkan nama file dari karakter asing, simbol, dan spasi berlebih.\n",
    "#     \"\"\"\n",
    "#     series = df[source_col].astype(str)\n",
    "\n",
    "#     # Bersihkan karakter asing: kurung, tanda baca, simbol\n",
    "#     series = series.str.replace(r'[\\[\\]\\(\\)\\{\\}_\\-]', ' ', regex=True)\n",
    "#     series = series.str.replace(r'[^\\w\\s]', '', regex=True)\n",
    "#     series = series.str.replace(r'\\s+', ' ', regex=True)\n",
    "#     series = series.str.strip()\n",
    "\n",
    "#     # Format huruf\n",
    "#     if to_lower:\n",
    "#         series = series.str.lower()\n",
    "#     elif to_title:\n",
    "#         series = series.str.title()\n",
    "\n",
    "#     df[new_col] = series\n",
    "#     return df"
   ]
  },
  {
   "cell_type": "code",
   "execution_count": null,
   "id": "7f38fa34",
   "metadata": {},
   "outputs": [
    {
     "data": {
      "text/plain": [
       "0"
      ]
     },
     "execution_count": 26,
     "metadata": {},
     "output_type": "execute_result"
    }
   ],
   "source": [
    "df_documents['FileNameClean'].isna().sum()"
   ]
  },
  {
   "cell_type": "markdown",
   "id": "87235481",
   "metadata": {},
   "source": [
    "## Pre-Processing FileExt"
   ]
  },
  {
   "cell_type": "markdown",
   "id": "c8b4ff78",
   "metadata": {},
   "source": [
    "Tujuan:\n",
    "1. Bersihkan dan seragamkan ekstensi (hilangkan titik, jadikan lowercase).\n",
    "2. Klasifikasikan ekstensi ke dalam kelompok file (dokumen, gambar, audio, dll).\n",
    "3. (Opsional) Hitung frekuensi tiap jenis file."
   ]
  },
  {
   "cell_type": "markdown",
   "id": "2fff54f8",
   "metadata": {},
   "source": [
    "### Modular Function for FileExt"
   ]
  },
  {
   "cell_type": "code",
   "execution_count": null,
   "id": "7202c16c",
   "metadata": {},
   "outputs": [],
   "source": [
    "# import pandas as pd\n",
    "# import matplotlib.pyplot as plt\n",
    "# from matplotlib.patches import Rectangle\n",
    "\n",
    "# def classify_and_plot_filetypes(df, ext_column='FileExt'):\n",
    "#     # 1. Gabungan peta ekstensi\n",
    "#     extension_map = {\n",
    "#         'doc': 'document', 'docx': 'document', 'pdf': 'document', 'txt': 'document', 'pptx': 'document', 'guides': 'document',\n",
    "#         'xls': 'spreadsheet', 'xlsx': 'spreadsheet', 'csv': 'spreadsheet',\n",
    "#         'jpg': 'image', 'jpeg': 'image', 'png': 'image', 'gif': 'image', 'bmp': 'image',\n",
    "#         'mp4': 'video', 'mkv': 'video', 'mov': 'video', 'avi': 'video',\n",
    "#         'mp3': 'audio', 'wav': 'audio', 'm4a': 'audio', 'pima': 'audio', 'pimx': 'audio', 'sig': 'audio', 'essentialsound': 'audio', 'aup3': 'audio',\n",
    "#         'zip': 'archive', 'rar': 'archive', '7z': 'archive',\n",
    "#         'py': 'code', 'ipynb': 'code', 'js': 'code', 'html': 'code', 'css': 'code', 'json': 'code', 'xml': 'code',\n",
    "#         'exe': 'system', 'dll': 'system',\n",
    "#         'ini': 'config', 'conf': 'config',\n",
    "#         'log': 'log',\n",
    "#         'woff': 'web',\n",
    "#         'prproj': 'project', 'prmdc2': 'project', 'olp': 'project'\n",
    "#     }\n",
    "\n",
    "#     # 2. Normalisasi ekstensi\n",
    "#     df[ext_column] = df[ext_column].str.lower().str.replace('.', '', regex=False)\n",
    "\n",
    "#     # 3. Klasifikasi\n",
    "#     df['FileType'] = df[ext_column].map(extension_map).fillna('other')\n",
    "\n",
    "#     # 4. Hitung frekuensi & persentase\n",
    "#     filetype_counts = df['FileType'].value_counts()\n",
    "#     total = filetype_counts.sum()\n",
    "#     percentages = (filetype_counts / total * 100).round(1)\n",
    "    \n",
    "#     colors = list(plt.cm.tab20.colors[:len(filetype_counts)])\n",
    "#     df_percent = pd.DataFrame({\n",
    "#         'Color': colors,\n",
    "#         'FileType': filetype_counts.index,\n",
    "#         'Count': filetype_counts.values,\n",
    "#         'Percentage (%)': percentages.values\n",
    "#     })\n",
    "\n",
    "#     # 5. Visualisasi: Pie chart\n",
    "#     fig, ax = plt.subplots(figsize=(10, 6))\n",
    "#     wedges, _ = ax.pie(\n",
    "#         filetype_counts,\n",
    "#         labels=None,\n",
    "#         startangle=140,\n",
    "#         colors=colors,\n",
    "#         wedgeprops=dict(width=0.4)\n",
    "#     )\n",
    "#     ax.set_title('FileType Distribution')\n",
    "\n",
    "#     # 6. Tabel warna samping\n",
    "#     table_ax = fig.add_axes([0.7, 0.15, 0.28, 0.7])\n",
    "#     table_ax.axis('off')\n",
    "\n",
    "#     for i, (color, filetype, count, pct) in enumerate(zip(df_percent['Color'], \n",
    "#                                                            df_percent['FileType'], \n",
    "#                                                            df_percent['Count'], \n",
    "#                                                            df_percent['Percentage (%)'])):\n",
    "#         table_ax.add_patch(Rectangle((0, i), 0.2, 1, color=color, transform=table_ax.transData))\n",
    "#         table_ax.text(0.25, i + 0.5, filetype, va='center')\n",
    "#         table_ax.text(1.2, i + 0.5, str(count), va='center')\n",
    "#         table_ax.text(2.0, i + 0.5, f\"{pct}%\", va='center')\n",
    "\n",
    "#     table_ax.set_xlim(0, 2.5)\n",
    "#     table_ax.set_ylim(0, len(df_percent))\n",
    "#     table_ax.set_title(\"FileType Details\", loc='left', fontsize=10, weight='bold')\n",
    "\n",
    "#     plt.tight_layout()\n",
    "#     plt.show()\n",
    "\n",
    "#     return df, df_percent  # Optional: return untuk pemakaian selanjutnya"
   ]
  },
  {
   "cell_type": "code",
   "execution_count": null,
   "id": "d6a85349",
   "metadata": {},
   "outputs": [],
   "source": [
    "df_documents['FileExt'] = df_documents['FileExt'].str.lower().str.replace('.', '', regex=False)"
   ]
  },
  {
   "cell_type": "code",
   "execution_count": null,
   "id": "0217e089",
   "metadata": {},
   "outputs": [],
   "source": [
    "extension_map = {\n",
    "    'doc': 'document', 'docx': 'document', 'pdf': 'document', 'txt': 'document',\n",
    "    'xls': 'spreadsheet', 'xlsx': 'spreadsheet', 'csv': 'spreadsheet',\n",
    "    'jpg': 'image', 'jpeg': 'image', 'png': 'image', 'gif': 'image', 'bmp': 'image',\n",
    "    'mp4': 'video', 'mkv': 'video', 'mov': 'video', 'avi': 'video',\n",
    "    'mp3': 'audio', 'wav': 'audio',\n",
    "    'zip': 'archive', 'rar': 'archive', '7z': 'archive',\n",
    "    'py': 'code', 'ipynb': 'code', 'js': 'code', 'html': 'code', 'css': 'code'\n",
    "}"
   ]
  },
  {
   "cell_type": "code",
   "execution_count": null,
   "id": "9ee5f015",
   "metadata": {},
   "outputs": [],
   "source": [
    "df_documents['FileType'] = df_documents['FileExt'].map(extension_map).fillna('other')"
   ]
  },
  {
   "cell_type": "code",
   "execution_count": null,
   "id": "04fa5f6d",
   "metadata": {},
   "outputs": [
    {
     "data": {
      "text/plain": [
       "FileType\n",
       "document       271\n",
       "other          257\n",
       "archive         91\n",
       "image           82\n",
       "code             4\n",
       "spreadsheet      2\n",
       "video            1\n",
       "Name: count, dtype: int64"
      ]
     },
     "execution_count": 31,
     "metadata": {},
     "output_type": "execute_result"
    }
   ],
   "source": [
    "df_documents['FileType'].value_counts()"
   ]
  },
  {
   "cell_type": "code",
   "execution_count": null,
   "id": "ff0f5010",
   "metadata": {},
   "outputs": [
    {
     "data": {
      "text/plain": [
       "FileExt\n",
       "pima              52\n",
       "pimx              52\n",
       "sig               52\n",
       "essentialsound    44\n",
       "json              21\n",
       "xml                6\n",
       "prproj             5\n",
       "m4a                4\n",
       "exe                3\n",
       "pptx               2\n",
       "ini                2\n",
       "dll                2\n",
       "woff               1\n",
       "guides             1\n",
       "prmdc2             1\n",
       "olp                1\n",
       "aup3               1\n",
       "log                1\n",
       "conf               1\n",
       "Name: count, dtype: int64"
      ]
     },
     "execution_count": 32,
     "metadata": {},
     "output_type": "execute_result"
    }
   ],
   "source": [
    "df_documents[df_documents['FileType'] == 'other']['FileExt'].value_counts()"
   ]
  },
  {
   "cell_type": "markdown",
   "id": "9e1380d7",
   "metadata": {},
   "source": [
    "Penjelasan Ekstensi \"Other\":\n",
    "\n",
    "| Ekstensi         | Keterangan                                              | Disarankan `FileType`                   |\n",
    "| ---------------- | ------------------------------------------------------- | --------------------------------------- |\n",
    "| `pima`, `pimx`   | Adobe Premiere audio/sequence markers                   | `audio` or `project` *(pilih satu)*     |\n",
    "| `sig`            | Signature file (mungkin dari Adobe Audio)               | `audio` / `config` (tergantung konteks) |\n",
    "| `essentialsound` | Adobe Essential Sound Presets                           | `audio` / `project`                     |\n",
    "| `json`, `xml`    | Structured config/data                                  | `code` or `config`                      |\n",
    "| `prproj`         | Adobe Premiere Pro project file                         | `video` or `project`                    |\n",
    "| `m4a`            | Audio                                                   | `audio`                                 |\n",
    "| `exe`, `dll`     | Program executable & library                            | `binary` or `system`                    |\n",
    "| `pptx`           | PowerPoint                                              | `document`                              |\n",
    "| `ini`, `conf`    | Configuration files                                     | `config`                                |\n",
    "| `woff`           | Web font                                                | `web`                                   |\n",
    "| `guides`         | Mungkin internal guide (butuh pengecekan)               | `document` or `other`                   |\n",
    "| `prmdc2`, `olp`  | Tidak umum, kemungkinan file preset atau internal Adobe | `project` or `other`                    |\n",
    "| `aup3`           | Audacity project file                                   | `audio` or `project`                    |\n",
    "| `log`            | Log file                                                | `log` or `config`                       |"
   ]
  },
  {
   "cell_type": "code",
   "execution_count": null,
   "id": "4e3c2170",
   "metadata": {},
   "outputs": [],
   "source": [
    "additional_map = {\n",
    "    'pima': 'audio',\n",
    "    'pimx': 'audio',\n",
    "    'sig': 'audio',\n",
    "    'essentialsound': 'audio',\n",
    "    'json': 'code',\n",
    "    'xml': 'code',\n",
    "    'prproj': 'project',\n",
    "    'm4a': 'audio',\n",
    "    'exe': 'system',\n",
    "    'dll': 'system',\n",
    "    'pptx': 'document',\n",
    "    'ini': 'config',\n",
    "    'conf': 'config',\n",
    "    'log': 'log',\n",
    "    'woff': 'web',\n",
    "    'aup3': 'audio',\n",
    "    'guides': 'document',\n",
    "    'prmdc2': 'project',\n",
    "    'olp': 'project'\n",
    "}\n",
    "\n",
    "df_documents['FileType'] = df_documents.apply(\n",
    "    lambda row: additional_map.get(row['FileExt'], row['FileType']),\n",
    "    axis=1\n",
    ")"
   ]
  },
  {
   "cell_type": "code",
   "execution_count": null,
   "id": "67963879",
   "metadata": {},
   "outputs": [
    {
     "data": {
      "text/plain": [
       "FileType\n",
       "document       274\n",
       "audio          205\n",
       "archive         91\n",
       "image           82\n",
       "code            31\n",
       "project          7\n",
       "system           5\n",
       "other            5\n",
       "config           3\n",
       "spreadsheet      2\n",
       "web              1\n",
       "log              1\n",
       "video            1\n",
       "Name: count, dtype: int64"
      ]
     },
     "execution_count": 34,
     "metadata": {},
     "output_type": "execute_result"
    }
   ],
   "source": [
    "df_documents['FileType'].value_counts()"
   ]
  },
  {
   "cell_type": "code",
   "execution_count": null,
   "id": "d6fe9664",
   "metadata": {},
   "outputs": [],
   "source": [
    "# Ambil data frekuensi FileType\n",
    "filetype_counts = df_documents['FileType'].value_counts()\n",
    "total = filetype_counts.sum()\n",
    "percentages = (filetype_counts / total * 100).round(1)"
   ]
  },
  {
   "cell_type": "code",
   "execution_count": null,
   "id": "d08c1c5f",
   "metadata": {},
   "outputs": [],
   "source": [
    "colors = list(plt.cm.tab20.colors[:len(filetype_counts)])\n",
    "df_percent = pd.DataFrame({\n",
    "    'Color': colors,\n",
    "    'FileType': filetype_counts.index,\n",
    "    'Count': filetype_counts.values,\n",
    "    'Percentage (%)': percentages.values\n",
    "})"
   ]
  },
  {
   "cell_type": "code",
   "execution_count": null,
   "id": "dbfb4358",
   "metadata": {},
   "outputs": [
    {
     "name": "stderr",
     "output_type": "stream",
     "text": [
      "C:\\Users\\ASUS\\AppData\\Local\\Temp\\ipykernel_16236\\1933764353.py:34: UserWarning: This figure includes Axes that are not compatible with tight_layout, so results might be incorrect.\n",
      "  plt.tight_layout()\n"
     ]
    },
    {
     "data": {
      "image/png": "[encoded data removed]",
      "text/plain": [
       "<Figure size 1000x600 with 2 Axes>"
      ]
     },
     "metadata": {},
     "output_type": "display_data"
    }
   ],
   "source": [
    "# Pie chart (tanpa label)\n",
    "fig, ax = plt.subplots(figsize=(10, 6))\n",
    "wedges, _ = ax.pie(\n",
    "    filetype_counts,\n",
    "    labels=None,\n",
    "    startangle=140,\n",
    "    colors=colors,\n",
    "    wedgeprops=dict(width=0.4)\n",
    ")\n",
    "ax.set_title('Distribusi FileType')\n",
    "\n",
    "# Tabel dengan warna di samping\n",
    "table_ax = fig.add_axes([0.7, 0.15, 0.28, 0.7])  # [left, bottom, width, height]\n",
    "table_ax.axis('off')\n",
    "\n",
    "# Buat isi tabel (dengan warna dalam bentuk patch rectangle)\n",
    "from matplotlib.patches import Rectangle\n",
    "\n",
    "# Tambahkan baris ke tabel satu per satu\n",
    "for i, (color, filetype, count, pct) in enumerate(zip(df_percent['Color'], \n",
    "                                                       df_percent['FileType'], \n",
    "                                                       df_percent['Count'], \n",
    "                                                       df_percent['Percentage (%)'])):\n",
    "    table_ax.add_patch(Rectangle((0, i), 0.2, 1, color=color, transform=table_ax.transData))\n",
    "    table_ax.text(0.25, i + 0.5, filetype, va='center')\n",
    "    table_ax.text(1.2, i + 0.5, str(count), va='center')\n",
    "    table_ax.text(2.0, i + 0.5, f\"{pct}%\", va='center')\n",
    "\n",
    "# Atur tampilan tabel agar rapih\n",
    "table_ax.set_xlim(0, 2.5)\n",
    "table_ax.set_ylim(0, len(df_percent))\n",
    "table_ax.set_title(\"Rincian FileType\", loc='left', fontsize=10, weight='bold')\n",
    "\n",
    "plt.tight_layout()\n",
    "plt.show()"
   ]
  },
  {
   "cell_type": "code",
   "execution_count": null,
   "id": "ff8ad2a2",
   "metadata": {},
   "outputs": [
    {
     "data": {
      "text/plain": [
       "0"
      ]
     },
     "execution_count": 38,
     "metadata": {},
     "output_type": "execute_result"
    }
   ],
   "source": [
    "df_documents['FileType'].isna().sum()"
   ]
  },
  {
   "cell_type": "markdown",
   "id": "968ded06",
   "metadata": {},
   "source": [
    "## Pre-Processing DateModified"
   ]
  },
  {
   "cell_type": "markdown",
   "id": "e2a6fe6d",
   "metadata": {},
   "source": [
    "Tujuan:\n",
    "Menyiapkan data waktu modifikasi file agar bisa dianalisis atau divisualisasikan secara akurat dan efisien"
   ]
  },
  {
   "cell_type": "code",
   "execution_count": null,
   "id": "5726c98e",
   "metadata": {},
   "outputs": [],
   "source": [
    "df_documents['DateModified'] = pd.to_datetime(df_documents['DateModified'], errors='coerce')"
   ]
  },
  {
   "cell_type": "code",
   "execution_count": null,
   "id": "f5284aaf",
   "metadata": {},
   "outputs": [
    {
     "data": {
      "text/plain": [
       "407   2025-04-01 06:34:22.923520\n",
       "693   2023-02-26 19:47:40.000000\n",
       "50    2022-05-20 05:21:46.000000\n",
       "414   2025-04-01 06:34:22.959605\n",
       "10    2023-04-14 15:10:50.000000\n",
       "Name: DateModified, dtype: datetime64[ns]"
      ]
     },
     "execution_count": 40,
     "metadata": {},
     "output_type": "execute_result"
    }
   ],
   "source": [
    "df_documents['DateModified'].sample(5)"
   ]
  },
  {
   "cell_type": "code",
   "execution_count": null,
   "id": "826039b2",
   "metadata": {},
   "outputs": [
    {
     "data": {
      "text/plain": [
       "0"
      ]
     },
     "execution_count": 41,
     "metadata": {},
     "output_type": "execute_result"
    }
   ],
   "source": [
    "df_documents['DateModified'].isna().sum()"
   ]
  },
  {
   "cell_type": "code",
   "execution_count": null,
   "id": "31d6862e",
   "metadata": {},
   "outputs": [],
   "source": [
    "df_documents['year'] = df_documents['DateModified'].dt.year"
   ]
  },
  {
   "cell_type": "code",
   "execution_count": null,
   "id": "dc8cbd52",
   "metadata": {},
   "outputs": [],
   "source": [
    "df_documents['month'] = df_documents['DateModified'].dt.month"
   ]
  },
  {
   "cell_type": "code",
   "execution_count": null,
   "id": "12e00457",
   "metadata": {},
   "outputs": [
    {
     "data": {
      "text/html": [
       "<div>\n",
       "<style scoped>\n",
       "    .dataframe tbody tr th:only-of-type {\n",
       "        vertical-align: middle;\n",
       "    }\n",
       "\n",
       "    .dataframe tbody tr th {\n",
       "        vertical-align: top;\n",
       "    }\n",
       "\n",
       "    .dataframe thead th {\n",
       "        text-align: right;\n",
       "    }\n",
       "</style>\n",
       "<table border=\"1\" class=\"dataframe\">\n",
       "  <thead>\n",
       "    <tr style=\"text-align: right;\">\n",
       "      <th></th>\n",
       "      <th>FileName</th>\n",
       "      <th>FileExt</th>\n",
       "      <th>DateModified</th>\n",
       "      <th>Size_KB</th>\n",
       "      <th>Size_GB</th>\n",
       "      <th>Source</th>\n",
       "      <th>Path</th>\n",
       "      <th>SimplePath</th>\n",
       "      <th>ParentPath</th>\n",
       "      <th>FileNameClean</th>\n",
       "      <th>FileType</th>\n",
       "      <th>year</th>\n",
       "      <th>month</th>\n",
       "    </tr>\n",
       "  </thead>\n",
       "  <tbody>\n",
       "    <tr>\n",
       "      <th>546</th>\n",
       "      <td>pas foto kemeja putih panjang</td>\n",
       "      <td>jpg</td>\n",
       "      <td>2006-04-02 04:07:14.000000</td>\n",
       "      <td>2360.84</td>\n",
       "      <td>0.0023</td>\n",
       "      <td>Documents</td>\n",
       "      <td>C:\\Users\\ASUS\\OneDrive\\Documents\\FOLDER FAJRI\\...</td>\n",
       "      <td>Users\\ASUS\\OneDrive\\Documents\\FOLDER FAJRI\\cv ...</td>\n",
       "      <td>C:\\Users\\ASUS\\OneDrive\\Documents\\FOLDER FAJRI\\...</td>\n",
       "      <td>Pas Foto Kemeja Putih Panjang</td>\n",
       "      <td>image</td>\n",
       "      <td>2006</td>\n",
       "      <td>4</td>\n",
       "    </tr>\n",
       "    <tr>\n",
       "      <th>544</th>\n",
       "      <td>pas foto jas panjang atau full</td>\n",
       "      <td>jpg</td>\n",
       "      <td>2006-04-02 04:09:54.000000</td>\n",
       "      <td>2982.16</td>\n",
       "      <td>0.0028</td>\n",
       "      <td>Documents</td>\n",
       "      <td>C:\\Users\\ASUS\\OneDrive\\Documents\\FOLDER FAJRI\\...</td>\n",
       "      <td>Users\\ASUS\\OneDrive\\Documents\\FOLDER FAJRI\\cv ...</td>\n",
       "      <td>C:\\Users\\ASUS\\OneDrive\\Documents\\FOLDER FAJRI\\...</td>\n",
       "      <td>Pas Foto Jas Panjang Atau Full</td>\n",
       "      <td>image</td>\n",
       "      <td>2006</td>\n",
       "      <td>4</td>\n",
       "    </tr>\n",
       "    <tr>\n",
       "      <th>255</th>\n",
       "      <td>AdobeColorCommonSetCMYK_1_0-mul</td>\n",
       "      <td>zip</td>\n",
       "      <td>2016-06-07 17:10:58.000000</td>\n",
       "      <td>8150.17</td>\n",
       "      <td>0.0078</td>\n",
       "      <td>Documents</td>\n",
       "      <td>C:\\Users\\ASUS\\OneDrive\\Documents\\Adobe\\Adobe I...</td>\n",
       "      <td>Users\\ASUS\\OneDrive\\Documents\\Adobe\\Adobe InDe...</td>\n",
       "      <td>C:\\Users\\ASUS\\OneDrive\\Documents\\Adobe\\Adobe I...</td>\n",
       "      <td>Adobecolorcommonsetcmyk 1 0 Mul</td>\n",
       "      <td>archive</td>\n",
       "      <td>2016</td>\n",
       "      <td>6</td>\n",
       "    </tr>\n",
       "    <tr>\n",
       "      <th>262</th>\n",
       "      <td>AdobeColorNA_Recommended_1_0-mul</td>\n",
       "      <td>zip</td>\n",
       "      <td>2016-06-07 17:19:55.000000</td>\n",
       "      <td>1605.30</td>\n",
       "      <td>0.0015</td>\n",
       "      <td>Documents</td>\n",
       "      <td>C:\\Users\\ASUS\\OneDrive\\Documents\\Adobe\\Adobe I...</td>\n",
       "      <td>Users\\ASUS\\OneDrive\\Documents\\Adobe\\Adobe InDe...</td>\n",
       "      <td>C:\\Users\\ASUS\\OneDrive\\Documents\\Adobe\\Adobe I...</td>\n",
       "      <td>Adobecolorna Recommended 1 0 Mul</td>\n",
       "      <td>archive</td>\n",
       "      <td>2016</td>\n",
       "      <td>6</td>\n",
       "    </tr>\n",
       "    <tr>\n",
       "      <th>258</th>\n",
       "      <td>AdobeColorEU_Recommended_1_0-mul</td>\n",
       "      <td>zip</td>\n",
       "      <td>2016-06-07 17:19:55.000000</td>\n",
       "      <td>1813.08</td>\n",
       "      <td>0.0017</td>\n",
       "      <td>Documents</td>\n",
       "      <td>C:\\Users\\ASUS\\OneDrive\\Documents\\Adobe\\Adobe I...</td>\n",
       "      <td>Users\\ASUS\\OneDrive\\Documents\\Adobe\\Adobe InDe...</td>\n",
       "      <td>C:\\Users\\ASUS\\OneDrive\\Documents\\Adobe\\Adobe I...</td>\n",
       "      <td>Adobecoloreu Recommended 1 0 Mul</td>\n",
       "      <td>archive</td>\n",
       "      <td>2016</td>\n",
       "      <td>6</td>\n",
       "    </tr>\n",
       "    <tr>\n",
       "      <th>...</th>\n",
       "      <td>...</td>\n",
       "      <td>...</td>\n",
       "      <td>...</td>\n",
       "      <td>...</td>\n",
       "      <td>...</td>\n",
       "      <td>...</td>\n",
       "      <td>...</td>\n",
       "      <td>...</td>\n",
       "      <td>...</td>\n",
       "      <td>...</td>\n",
       "      <td>...</td>\n",
       "      <td>...</td>\n",
       "      <td>...</td>\n",
       "    </tr>\n",
       "    <tr>\n",
       "      <th>644</th>\n",
       "      <td>DRAFT INTERVIEW Fajri for MT at YMT</td>\n",
       "      <td>pdf</td>\n",
       "      <td>2025-07-18 19:29:56.871769</td>\n",
       "      <td>79.03</td>\n",
       "      <td>0.0001</td>\n",
       "      <td>Documents</td>\n",
       "      <td>C:\\Users\\ASUS\\OneDrive\\Documents\\FOLDER FAJRI\\...</td>\n",
       "      <td>Users\\ASUS\\OneDrive\\Documents\\FOLDER FAJRI\\Rec...</td>\n",
       "      <td>C:\\Users\\ASUS\\OneDrive\\Documents\\FOLDER FAJRI\\...</td>\n",
       "      <td>Draft Interview Fajri For Mt At Ymt</td>\n",
       "      <td>document</td>\n",
       "      <td>2025</td>\n",
       "      <td>7</td>\n",
       "    </tr>\n",
       "    <tr>\n",
       "      <th>645</th>\n",
       "      <td>DRAFT INTERVIEW Fajri for MT at YMT.pdf</td>\n",
       "      <td>docx</td>\n",
       "      <td>2025-07-18 19:31:30.166986</td>\n",
       "      <td>17.12</td>\n",
       "      <td>0.0000</td>\n",
       "      <td>Documents</td>\n",
       "      <td>C:\\Users\\ASUS\\OneDrive\\Documents\\FOLDER FAJRI\\...</td>\n",
       "      <td>Users\\ASUS\\OneDrive\\Documents\\FOLDER FAJRI\\Rec...</td>\n",
       "      <td>C:\\Users\\ASUS\\OneDrive\\Documents\\FOLDER FAJRI\\...</td>\n",
       "      <td>Draft Interview Fajri For Mt At Ymtpdf</td>\n",
       "      <td>document</td>\n",
       "      <td>2025</td>\n",
       "      <td>7</td>\n",
       "    </tr>\n",
       "    <tr>\n",
       "      <th>653</th>\n",
       "      <td>interview format_template</td>\n",
       "      <td>docx</td>\n",
       "      <td>2025-07-18 19:36:22.660856</td>\n",
       "      <td>14.44</td>\n",
       "      <td>0.0000</td>\n",
       "      <td>Documents</td>\n",
       "      <td>C:\\Users\\ASUS\\OneDrive\\Documents\\FOLDER FAJRI\\...</td>\n",
       "      <td>Users\\ASUS\\OneDrive\\Documents\\FOLDER FAJRI\\Rec...</td>\n",
       "      <td>C:\\Users\\ASUS\\OneDrive\\Documents\\FOLDER FAJRI\\...</td>\n",
       "      <td>Interview Format Template</td>\n",
       "      <td>document</td>\n",
       "      <td>2025</td>\n",
       "      <td>7</td>\n",
       "    </tr>\n",
       "    <tr>\n",
       "      <th>3</th>\n",
       "      <td>Cover Letter at Mott MacDonald</td>\n",
       "      <td>docx</td>\n",
       "      <td>2025-07-28 13:23:28.501258</td>\n",
       "      <td>14.82</td>\n",
       "      <td>0.0000</td>\n",
       "      <td>Documents</td>\n",
       "      <td>C:\\Users\\ASUS\\OneDrive\\Documents\\Cover Letter ...</td>\n",
       "      <td>Users\\ASUS\\OneDrive\\Documents\\Cover Letter at ...</td>\n",
       "      <td>C:\\Users\\ASUS\\OneDrive\\Documents</td>\n",
       "      <td>Cover Letter At Mott Macdonald</td>\n",
       "      <td>document</td>\n",
       "      <td>2025</td>\n",
       "      <td>7</td>\n",
       "    </tr>\n",
       "    <tr>\n",
       "      <th>4</th>\n",
       "      <td>desktop</td>\n",
       "      <td>ini</td>\n",
       "      <td>2025-07-30 14:33:17.968781</td>\n",
       "      <td>0.39</td>\n",
       "      <td>0.0000</td>\n",
       "      <td>Documents</td>\n",
       "      <td>C:\\Users\\ASUS\\OneDrive\\Documents\\desktop.ini</td>\n",
       "      <td>Users\\ASUS\\OneDrive\\Documents\\desktop.ini</td>\n",
       "      <td>C:\\Users\\ASUS\\OneDrive\\Documents</td>\n",
       "      <td>Desktop</td>\n",
       "      <td>config</td>\n",
       "      <td>2025</td>\n",
       "      <td>7</td>\n",
       "    </tr>\n",
       "  </tbody>\n",
       "</table>\n",
       "<p>708 rows × 13 columns</p>\n",
       "</div>"
      ],
      "text/plain": [
       "                                    FileName FileExt  \\\n",
       "546            pas foto kemeja putih panjang     jpg   \n",
       "544           pas foto jas panjang atau full     jpg   \n",
       "255          AdobeColorCommonSetCMYK_1_0-mul     zip   \n",
       "262         AdobeColorNA_Recommended_1_0-mul     zip   \n",
       "258         AdobeColorEU_Recommended_1_0-mul     zip   \n",
       "..                                       ...     ...   \n",
       "644      DRAFT INTERVIEW Fajri for MT at YMT     pdf   \n",
       "645  DRAFT INTERVIEW Fajri for MT at YMT.pdf    docx   \n",
       "653                interview format_template    docx   \n",
       "3             Cover Letter at Mott MacDonald    docx   \n",
       "4                                    desktop     ini   \n",
       "\n",
       "                  DateModified  Size_KB  Size_GB     Source  \\\n",
       "546 2006-04-02 04:07:14.000000  2360.84   0.0023  Documents   \n",
       "544 2006-04-02 04:09:54.000000  2982.16   0.0028  Documents   \n",
       "255 2016-06-07 17:10:58.000000  8150.17   0.0078  Documents   \n",
       "262 2016-06-07 17:19:55.000000  1605.30   0.0015  Documents   \n",
       "258 2016-06-07 17:19:55.000000  1813.08   0.0017  Documents   \n",
       "..                         ...      ...      ...        ...   \n",
       "644 2025-07-18 19:29:56.871769    79.03   0.0001  Documents   \n",
       "645 2025-07-18 19:31:30.166986    17.12   0.0000  Documents   \n",
       "653 2025-07-18 19:36:22.660856    14.44   0.0000  Documents   \n",
       "3   2025-07-28 13:23:28.501258    14.82   0.0000  Documents   \n",
       "4   2025-07-30 14:33:17.968781     0.39   0.0000  Documents   \n",
       "\n",
       "                                                  Path  \\\n",
       "546  C:\\Users\\ASUS\\OneDrive\\Documents\\FOLDER FAJRI\\...   \n",
       "544  C:\\Users\\ASUS\\OneDrive\\Documents\\FOLDER FAJRI\\...   \n",
       "255  C:\\Users\\ASUS\\OneDrive\\Documents\\Adobe\\Adobe I...   \n",
       "262  C:\\Users\\ASUS\\OneDrive\\Documents\\Adobe\\Adobe I...   \n",
       "258  C:\\Users\\ASUS\\OneDrive\\Documents\\Adobe\\Adobe I...   \n",
       "..                                                 ...   \n",
       "644  C:\\Users\\ASUS\\OneDrive\\Documents\\FOLDER FAJRI\\...   \n",
       "645  C:\\Users\\ASUS\\OneDrive\\Documents\\FOLDER FAJRI\\...   \n",
       "653  C:\\Users\\ASUS\\OneDrive\\Documents\\FOLDER FAJRI\\...   \n",
       "3    C:\\Users\\ASUS\\OneDrive\\Documents\\Cover Letter ...   \n",
       "4         C:\\Users\\ASUS\\OneDrive\\Documents\\desktop.ini   \n",
       "\n",
       "                                            SimplePath  \\\n",
       "546  Users\\ASUS\\OneDrive\\Documents\\FOLDER FAJRI\\cv ...   \n",
       "544  Users\\ASUS\\OneDrive\\Documents\\FOLDER FAJRI\\cv ...   \n",
       "255  Users\\ASUS\\OneDrive\\Documents\\Adobe\\Adobe InDe...   \n",
       "262  Users\\ASUS\\OneDrive\\Documents\\Adobe\\Adobe InDe...   \n",
       "258  Users\\ASUS\\OneDrive\\Documents\\Adobe\\Adobe InDe...   \n",
       "..                                                 ...   \n",
       "644  Users\\ASUS\\OneDrive\\Documents\\FOLDER FAJRI\\Rec...   \n",
       "645  Users\\ASUS\\OneDrive\\Documents\\FOLDER FAJRI\\Rec...   \n",
       "653  Users\\ASUS\\OneDrive\\Documents\\FOLDER FAJRI\\Rec...   \n",
       "3    Users\\ASUS\\OneDrive\\Documents\\Cover Letter at ...   \n",
       "4            Users\\ASUS\\OneDrive\\Documents\\desktop.ini   \n",
       "\n",
       "                                            ParentPath  \\\n",
       "546  C:\\Users\\ASUS\\OneDrive\\Documents\\FOLDER FAJRI\\...   \n",
       "544  C:\\Users\\ASUS\\OneDrive\\Documents\\FOLDER FAJRI\\...   \n",
       "255  C:\\Users\\ASUS\\OneDrive\\Documents\\Adobe\\Adobe I...   \n",
       "262  C:\\Users\\ASUS\\OneDrive\\Documents\\Adobe\\Adobe I...   \n",
       "258  C:\\Users\\ASUS\\OneDrive\\Documents\\Adobe\\Adobe I...   \n",
       "..                                                 ...   \n",
       "644  C:\\Users\\ASUS\\OneDrive\\Documents\\FOLDER FAJRI\\...   \n",
       "645  C:\\Users\\ASUS\\OneDrive\\Documents\\FOLDER FAJRI\\...   \n",
       "653  C:\\Users\\ASUS\\OneDrive\\Documents\\FOLDER FAJRI\\...   \n",
       "3                     C:\\Users\\ASUS\\OneDrive\\Documents   \n",
       "4                     C:\\Users\\ASUS\\OneDrive\\Documents   \n",
       "\n",
       "                              FileNameClean  FileType  year  month  \n",
       "546           Pas Foto Kemeja Putih Panjang     image  2006      4  \n",
       "544          Pas Foto Jas Panjang Atau Full     image  2006      4  \n",
       "255         Adobecolorcommonsetcmyk 1 0 Mul   archive  2016      6  \n",
       "262        Adobecolorna Recommended 1 0 Mul   archive  2016      6  \n",
       "258        Adobecoloreu Recommended 1 0 Mul   archive  2016      6  \n",
       "..                                      ...       ...   ...    ...  \n",
       "644     Draft Interview Fajri For Mt At Ymt  document  2025      7  \n",
       "645  Draft Interview Fajri For Mt At Ymtpdf  document  2025      7  \n",
       "653               Interview Format Template  document  2025      7  \n",
       "3            Cover Letter At Mott Macdonald  document  2025      7  \n",
       "4                                   Desktop    config  2025      7  \n",
       "\n",
       "[708 rows x 13 columns]"
      ]
     },
     "execution_count": 44,
     "metadata": {},
     "output_type": "execute_result"
    }
   ],
   "source": [
    "df_documents.sort_values('DateModified')  # urutkan dari yang paling lama"
   ]
  },
  {
   "cell_type": "code",
   "execution_count": null,
   "id": "15f0e4b2",
   "metadata": {},
   "outputs": [],
   "source": [
    "df_documents['DateModified'] = pd.to_datetime(df_documents['DateModified'], errors='coerce', dayfirst=True)"
   ]
  },
  {
   "cell_type": "markdown",
   "id": "f6ea8aea",
   "metadata": {},
   "source": [
    "### Modifikasi Delta Date Modified Sejak Hari ini (31 Juli 2025)"
   ]
  },
  {
   "cell_type": "code",
   "execution_count": null,
   "id": "7a0a5076",
   "metadata": {},
   "outputs": [],
   "source": [
    "now = pd.Timestamp(datetime.now())"
   ]
  },
  {
   "cell_type": "code",
   "execution_count": null,
   "id": "c8fea735",
   "metadata": {},
   "outputs": [],
   "source": [
    "def label_usia_dokumen(date):\n",
    "    if pd.isna(date):\n",
    "        return 'tidak diketahui'\n",
    "    delta = (now - date).days\n",
    "    if delta <= 365:\n",
    "        return 'baru'\n",
    "    elif delta <= 5 * 365:\n",
    "        return 'menengah'\n",
    "    else:\n",
    "        return 'lama'"
   ]
  },
  {
   "cell_type": "code",
   "execution_count": null,
   "id": "970d703d",
   "metadata": {},
   "outputs": [],
   "source": [
    "df_documents['UsiaDokumen'] = df_documents['DateModified'].apply(label_usia_dokumen)"
   ]
  },
  {
   "cell_type": "code",
   "execution_count": null,
   "id": "71abec92",
   "metadata": {},
   "outputs": [
    {
     "data": {
      "text/plain": [
       "UsiaDokumen\n",
       "menengah    545\n",
       "baru        132\n",
       "lama         31\n",
       "Name: count, dtype: int64"
      ]
     },
     "execution_count": 49,
     "metadata": {},
     "output_type": "execute_result"
    }
   ],
   "source": [
    "df_documents['UsiaDokumen'].value_counts()"
   ]
  },
  {
   "cell_type": "code",
   "execution_count": null,
   "id": "0eac69eb",
   "metadata": {},
   "outputs": [
    {
     "data": {
      "text/plain": [
       "0"
      ]
     },
     "execution_count": 50,
     "metadata": {},
     "output_type": "execute_result"
    }
   ],
   "source": [
    "df_documents['UsiaDokumen'].isna().sum()"
   ]
  },
  {
   "cell_type": "markdown",
   "id": "e2a40430",
   "metadata": {},
   "source": [
    "## Pre-Processing Size"
   ]
  },
  {
   "cell_type": "markdown",
   "id": "91017d1e",
   "metadata": {},
   "source": [
    "Tujuan:\n",
    "1. Ubah Nilai Menjadi Tipe Numerik\n",
    "2. Tangani Nilai Hilang atau Nol\n",
    "3. (Opsional) Ubah ke Satuan Lain\n",
    "4. (Opsional) Buat Kategori Ukuran File"
   ]
  },
  {
   "cell_type": "code",
   "execution_count": null,
   "id": "fe4acc85",
   "metadata": {},
   "outputs": [],
   "source": [
    "df_documents['Size_KB'] = pd.to_numeric(df_documents['Size_KB'], errors='coerce')"
   ]
  },
  {
   "cell_type": "code",
   "execution_count": null,
   "id": "8e6e8e7c",
   "metadata": {},
   "outputs": [],
   "source": [
    "df_documents['Size_KB'] = df_documents['Size_KB'].fillna(0)"
   ]
  },
  {
   "cell_type": "code",
   "execution_count": null,
   "id": "fcb40f95",
   "metadata": {},
   "outputs": [],
   "source": [
    "df_documents['Size_MB'] = df_documents['Size_KB'] / 1024  # Kilobyte ke Megabyte"
   ]
  },
  {
   "cell_type": "code",
   "execution_count": null,
   "id": "d6c4d70a",
   "metadata": {},
   "outputs": [],
   "source": [
    "def size_category(size_kb):\n",
    "    if size_kb < 100:\n",
    "        return 'Kecil (<100KB)'\n",
    "    elif size_kb < 1024:\n",
    "        return 'Sedang (100KB–1MB)'\n",
    "    else:\n",
    "        return 'Besar (>1MB)'"
   ]
  },
  {
   "cell_type": "code",
   "execution_count": null,
   "id": "ec4eeb59",
   "metadata": {},
   "outputs": [],
   "source": [
    "df_documents['SizeCategory'] = df_documents['Size_KB'].apply(size_category)"
   ]
  },
  {
   "cell_type": "code",
   "execution_count": null,
   "id": "b96c9ef6",
   "metadata": {},
   "outputs": [
    {
     "data": {
      "text/plain": [
       "293    Sedang (100KB–1MB)\n",
       "235        Kecil (<100KB)\n",
       "329        Kecil (<100KB)\n",
       "576    Sedang (100KB–1MB)\n",
       "6          Kecil (<100KB)\n",
       "Name: SizeCategory, dtype: object"
      ]
     },
     "execution_count": 56,
     "metadata": {},
     "output_type": "execute_result"
    }
   ],
   "source": [
    "df_documents['SizeCategory'].sample(5)"
   ]
  },
  {
   "cell_type": "code",
   "execution_count": null,
   "id": "20095bc4",
   "metadata": {},
   "outputs": [
    {
     "data": {
      "text/plain": [
       "0"
      ]
     },
     "execution_count": 57,
     "metadata": {},
     "output_type": "execute_result"
    }
   ],
   "source": [
    "df_documents['SizeCategory'].isna().sum()"
   ]
  },
  {
   "cell_type": "markdown",
   "id": "a8b652e3",
   "metadata": {},
   "source": [
    "## Pre-Processing Source"
   ]
  },
  {
   "cell_type": "markdown",
   "id": "6fad50b6",
   "metadata": {},
   "source": [
    "Tujuan:\n",
    "1. Membersihkan data teks (spasi berlebih, huruf besar/kecil).\n",
    "2. Menstandarkan format sumber.\n",
    "3. Menangani missing values / sumber tidak diketahui.\n",
    "4. (Opsional) Menyederhanakan kategori / mapping.\n",
    "5. (Opsional) Membuat kategori/klasifikasi sumber."
   ]
  },
  {
   "cell_type": "code",
   "execution_count": null,
   "id": "779e7dcf",
   "metadata": {},
   "outputs": [],
   "source": [
    "df_documents['Source'] = df_documents['Source'].str.strip().str.lower()"
   ]
  },
  {
   "cell_type": "code",
   "execution_count": null,
   "id": "b4e4480e",
   "metadata": {},
   "outputs": [],
   "source": [
    "mapping = {\n",
    "    'local': 'lokal',\n",
    "    'lokal': 'lokal',\n",
    "    'google drive': 'gdrive',\n",
    "    'gdrive': 'gdrive',\n",
    "    'email': 'email',\n",
    "    'unggahan': 'upload',\n",
    "    'upload': 'upload',\n",
    "}"
   ]
  },
  {
   "cell_type": "code",
   "execution_count": null,
   "id": "ad175c0d",
   "metadata": {},
   "outputs": [],
   "source": [
    "df_documents['Source'] = df_documents['Source'].map(mapping).fillna(df_documents['Source'])"
   ]
  },
  {
   "cell_type": "code",
   "execution_count": null,
   "id": "53b37426",
   "metadata": {},
   "outputs": [],
   "source": [
    "df_documents['Source'] = df_documents['Source'].fillna('unknown')"
   ]
  },
  {
   "cell_type": "code",
   "execution_count": null,
   "id": "655ed518",
   "metadata": {},
   "outputs": [],
   "source": [
    "def classify_source(val):\n",
    "    if 'gdrive' in val or 'google' in val:\n",
    "        return 'Cloud'\n",
    "    elif 'local' in val or 'lokal' in val:\n",
    "        return 'Offline'\n",
    "    elif 'email' in val:\n",
    "        return 'Email'\n",
    "    else:\n",
    "        return 'Lainnya'"
   ]
  },
  {
   "cell_type": "code",
   "execution_count": null,
   "id": "a8504e55",
   "metadata": {},
   "outputs": [],
   "source": [
    "df_documents['Source_Class'] = df_documents['Source'].apply(classify_source)"
   ]
  },
  {
   "cell_type": "code",
   "execution_count": null,
   "id": "621d928c",
   "metadata": {},
   "outputs": [
    {
     "data": {
      "text/plain": [
       "Source\n",
       "documents    708\n",
       "Name: count, dtype: int64"
      ]
     },
     "execution_count": 64,
     "metadata": {},
     "output_type": "execute_result"
    }
   ],
   "source": [
    "df_documents['Source'].value_counts()"
   ]
  },
  {
   "cell_type": "code",
   "execution_count": null,
   "id": "e67eed8c",
   "metadata": {},
   "outputs": [
    {
     "data": {
      "text/plain": [
       "Source_Class\n",
       "Lainnya    708\n",
       "Name: count, dtype: int64"
      ]
     },
     "execution_count": 65,
     "metadata": {},
     "output_type": "execute_result"
    }
   ],
   "source": [
    "df_documents['Source_Class'].value_counts()"
   ]
  },
  {
   "cell_type": "markdown",
   "id": "b99fa7cf",
   "metadata": {},
   "source": [
    "## Pre-Processing Path"
   ]
  },
  {
   "cell_type": "markdown",
   "id": "09cce5db",
   "metadata": {},
   "source": [
    "Tujuan:\n",
    "1. Membersihkan path dari karakter aneh/spasi tidak penting.\n",
    "2. Ekstraksi informasi penting, seperti: Nama folder utama (root), Subfolder, Nama file (jika belum dipisahkan)\n",
    "3. (Opsional) Menyederhanakan atau mengelompokkan berdasarkan direktori/fungsi.\n",
    "4. (Opsional) Menandai file yang disimpan di lokasi sensitif atau tidak rapi."
   ]
  },
  {
   "cell_type": "code",
   "execution_count": null,
   "id": "00a46b17",
   "metadata": {},
   "outputs": [],
   "source": [
    "df_documents['Path_modified'] = df_documents['Path'].copy()"
   ]
  },
  {
   "cell_type": "code",
   "execution_count": null,
   "id": "fb5263a9",
   "metadata": {},
   "outputs": [],
   "source": [
    "df_documents['Path_modified'] = df_documents['Path_modified'].str.strip()\n",
    "df_documents['Path_modified'] = df_documents['Path_modified'].str.replace('\\\\', '/', regex=False)  # Standarkan separator\n",
    "df_documents['Path_modified'] = df_documents['Path_modified'].str.replace('%20', ' ', regex=False)  # Ganti encoded space"
   ]
  },
  {
   "cell_type": "code",
   "execution_count": null,
   "id": "eabce9bd",
   "metadata": {},
   "outputs": [],
   "source": [
    "# Folder root (bagian pertama dari path)\n",
    "df_documents['Folder_Root'] = df_documents['Path_modified'].apply(lambda x: x.split('/')[0] if pd.notnull(x) else 'unknown')\n",
    "\n",
    "# Subfolder level ke-2 (jika ada)\n",
    "df_documents['Subfolder_L2'] = df_documents['Path_modified'].apply(lambda x: x.split('/')[1] if pd.notnull(x) and len(x.split('/')) > 1 else 'unknown')\n",
    "\n",
    "# Nama file dari path\n",
    "df_documents['Filename'] = df_documents['Path_modified'].apply(lambda x: x.split('/')[-1] if pd.notnull(x) else '')\n"
   ]
  },
  {
   "cell_type": "code",
   "execution_count": null,
   "id": "6de5be4b",
   "metadata": {},
   "outputs": [],
   "source": [
    "def classify_path(path):\n",
    "    path = path.lower()\n",
    "    if 'projecta' in path:\n",
    "        return 'Project A'\n",
    "    elif 'backup' in path:\n",
    "        return 'Backup'\n",
    "    elif 'unduh' in path or 'download' in path:\n",
    "        return 'Downloaded'\n",
    "    else:\n",
    "        return 'Lainnya'\n"
   ]
  },
  {
   "cell_type": "code",
   "execution_count": null,
   "id": "122aef66",
   "metadata": {},
   "outputs": [],
   "source": [
    "df_documents['Path_Class'] = df_documents['Path_modified'].apply(classify_path)"
   ]
  },
  {
   "cell_type": "code",
   "execution_count": null,
   "id": "549eba0b",
   "metadata": {},
   "outputs": [],
   "source": [
    "df_documents['Path_Anomali'] = df_documents['Path_modified'].apply(\n",
    "    lambda x: 'Yes' if x.lower().startswith(('c:/users', '/users')) else 'No'\n",
    ")"
   ]
  },
  {
   "cell_type": "code",
   "execution_count": null,
   "id": "8debc624",
   "metadata": {},
   "outputs": [],
   "source": [
    "# Subfolder level ke-3 (jika ada)\n",
    "df_documents['Subfolder_L3'] = df_documents['Path_modified'].apply(\n",
    "    lambda x: x.split('/')[2] if pd.notnull(x) and len(x.split('/')) > 2 else 'unknown'\n",
    ")\n",
    "\n",
    "# Subfolder level ke-4 (jika ada)\n",
    "df_documents['Subfolder_L4'] = df_documents['Path_modified'].apply(\n",
    "    lambda x: x.split('/')[3] if pd.notnull(x) and len(x.split('/')) > 3 else 'unknown'\n",
    ")\n",
    "\n",
    "# Subfolder level ke-5 (jika ada)\n",
    "df_documents['Subfolder_L5'] = df_documents['Path_modified'].apply(\n",
    "    lambda x: x.split('/')[4] if pd.notnull(x) and len(x.split('/')) > 4 else 'unknown'\n",
    ")\n",
    "\n",
    "# Subfolder level ke-6 (jika ada)\n",
    "df_documents['Subfolder_L6'] = df_documents['Path_modified'].apply(\n",
    "    lambda x: x.split('/')[5] if pd.notnull(x) and len(x.split('/')) > 5 else 'unknown'\n",
    ")"
   ]
  },
  {
   "cell_type": "code",
   "execution_count": null,
   "id": "ed6330aa",
   "metadata": {},
   "outputs": [
    {
     "data": {
      "text/plain": [
       "Subfolder_L6\n",
       "FOLDER FAJRI                                                                    346\n",
       "Adobe                                                                           340\n",
       "Sound Recordings                                                                  3\n",
       "SketchUp_Pro_2024_v24.0.594_2                                                     3\n",
       "XMind_2025_v25.01.01061                                                           3\n",
       "Zoom                                                                              3\n",
       "AKU FAJRI.docx                                                                    1\n",
       "Analisis Materi Masker.docx                                                       1\n",
       "biblioshiny_notifications.csv                                                     1\n",
       "Cover Letter at Mott MacDonald.docx                                               1\n",
       "desktop.ini                                                                       1\n",
       "Journal on Life.xlsx                                                              1\n",
       "Jurnal Kesendirian-Fajri.docx                                                     1\n",
       "kumpulan doa doa.docx                                                             1\n",
       "The Ministry of Energy and Mineral Resources of Indonesia says that net.docx      1\n",
       "Audacity                                                                          1\n",
       "Name: count, dtype: int64"
      ]
     },
     "execution_count": 73,
     "metadata": {},
     "output_type": "execute_result"
    }
   ],
   "source": [
    "df_documents['Subfolder_L6'].value_counts()"
   ]
  },
  {
   "cell_type": "markdown",
   "id": "911cabfb",
   "metadata": {},
   "source": [
    "### Karena Percabangan Mulai di L6 Perlu Analisis Lanjutan"
   ]
  },
  {
   "cell_type": "code",
   "execution_count": null,
   "id": "6250f8f0",
   "metadata": {},
   "outputs": [],
   "source": [
    "# Gabungkan Folder_Root sampai Subfolder_L5\n",
    "df_documents['Path_Uniform'] = df_documents[['Folder_Root', 'Subfolder_L2', 'Subfolder_L3', 'Subfolder_L4', 'Subfolder_L5']].agg('/'.join, axis=1)"
   ]
  },
  {
   "cell_type": "code",
   "execution_count": null,
   "id": "ee4cc648",
   "metadata": {},
   "outputs": [
    {
     "data": {
      "text/html": [
       "<div>\n",
       "<style scoped>\n",
       "    .dataframe tbody tr th:only-of-type {\n",
       "        vertical-align: middle;\n",
       "    }\n",
       "\n",
       "    .dataframe tbody tr th {\n",
       "        vertical-align: top;\n",
       "    }\n",
       "\n",
       "    .dataframe thead th {\n",
       "        text-align: right;\n",
       "    }\n",
       "</style>\n",
       "<table border=\"1\" class=\"dataframe\">\n",
       "  <thead>\n",
       "    <tr style=\"text-align: right;\">\n",
       "      <th></th>\n",
       "      <th>Path_Uniform</th>\n",
       "      <th>Subfolder_L6</th>\n",
       "      <th>Filename</th>\n",
       "    </tr>\n",
       "  </thead>\n",
       "  <tbody>\n",
       "    <tr>\n",
       "      <th>0</th>\n",
       "      <td>C:/Users/ASUS/OneDrive/Documents</td>\n",
       "      <td>AKU FAJRI.docx</td>\n",
       "      <td>AKU FAJRI.docx</td>\n",
       "    </tr>\n",
       "    <tr>\n",
       "      <th>1</th>\n",
       "      <td>C:/Users/ASUS/OneDrive/Documents</td>\n",
       "      <td>Analisis Materi Masker.docx</td>\n",
       "      <td>Analisis Materi Masker.docx</td>\n",
       "    </tr>\n",
       "    <tr>\n",
       "      <th>2</th>\n",
       "      <td>C:/Users/ASUS/OneDrive/Documents</td>\n",
       "      <td>biblioshiny_notifications.csv</td>\n",
       "      <td>biblioshiny_notifications.csv</td>\n",
       "    </tr>\n",
       "    <tr>\n",
       "      <th>3</th>\n",
       "      <td>C:/Users/ASUS/OneDrive/Documents</td>\n",
       "      <td>Cover Letter at Mott MacDonald.docx</td>\n",
       "      <td>Cover Letter at Mott MacDonald.docx</td>\n",
       "    </tr>\n",
       "    <tr>\n",
       "      <th>4</th>\n",
       "      <td>C:/Users/ASUS/OneDrive/Documents</td>\n",
       "      <td>desktop.ini</td>\n",
       "      <td>desktop.ini</td>\n",
       "    </tr>\n",
       "  </tbody>\n",
       "</table>\n",
       "</div>"
      ],
      "text/plain": [
       "                       Path_Uniform                         Subfolder_L6  \\\n",
       "0  C:/Users/ASUS/OneDrive/Documents                       AKU FAJRI.docx   \n",
       "1  C:/Users/ASUS/OneDrive/Documents          Analisis Materi Masker.docx   \n",
       "2  C:/Users/ASUS/OneDrive/Documents        biblioshiny_notifications.csv   \n",
       "3  C:/Users/ASUS/OneDrive/Documents  Cover Letter at Mott MacDonald.docx   \n",
       "4  C:/Users/ASUS/OneDrive/Documents                          desktop.ini   \n",
       "\n",
       "                              Filename  \n",
       "0                       AKU FAJRI.docx  \n",
       "1          Analisis Materi Masker.docx  \n",
       "2        biblioshiny_notifications.csv  \n",
       "3  Cover Letter at Mott MacDonald.docx  \n",
       "4                          desktop.ini  "
      ]
     },
     "execution_count": 75,
     "metadata": {},
     "output_type": "execute_result"
    }
   ],
   "source": [
    "# Lihat contoh\n",
    "df_documents[['Path_Uniform', 'Subfolder_L6', 'Filename']].head()"
   ]
  },
  {
   "cell_type": "code",
   "execution_count": null,
   "id": "b170049c",
   "metadata": {},
   "outputs": [],
   "source": [
    "# Hitung frekuensi file per Subfolder_L6\n",
    "subfolder_counts = df_documents['Subfolder_L6'].value_counts().sort_values(ascending=False)"
   ]
  },
  {
   "cell_type": "code",
   "execution_count": null,
   "id": "8c95dff3",
   "metadata": {},
   "outputs": [
    {
     "name": "stdout",
     "output_type": "stream",
     "text": [
      "Subfolder_L6\n",
      "FOLDER FAJRI                                                                    346\n",
      "Adobe                                                                           340\n",
      "Sound Recordings                                                                  3\n",
      "SketchUp_Pro_2024_v24.0.594_2                                                     3\n",
      "XMind_2025_v25.01.01061                                                           3\n",
      "Zoom                                                                              3\n",
      "AKU FAJRI.docx                                                                    1\n",
      "Analisis Materi Masker.docx                                                       1\n",
      "biblioshiny_notifications.csv                                                     1\n",
      "Cover Letter at Mott MacDonald.docx                                               1\n",
      "desktop.ini                                                                       1\n",
      "Journal on Life.xlsx                                                              1\n",
      "Jurnal Kesendirian-Fajri.docx                                                     1\n",
      "kumpulan doa doa.docx                                                             1\n",
      "The Ministry of Energy and Mineral Resources of Indonesia says that net.docx      1\n",
      "Audacity                                                                          1\n",
      "Name: count, dtype: int64\n"
     ]
    }
   ],
   "source": [
    "# Tampilkan sebagai tabel (jika di Jupyter Notebook atau Streamlit)\n",
    "print(subfolder_counts)"
   ]
  },
  {
   "cell_type": "code",
   "execution_count": null,
   "id": "e47db99a",
   "metadata": {},
   "outputs": [
    {
     "name": "stdout",
     "output_type": "stream",
     "text": [
      "✅ Data berhasil disimpan ke 'data_documents_cleaned.csv'\n"
     ]
    }
   ],
   "source": [
    "# Simpan ke file CSV\n",
    "df_documents.to_csv('data_documents_cleaned.csv', index=False)\n",
    "# Konfirmasi\n",
    "print(\"✅ Data berhasil disimpan ke 'data_documents_cleaned.csv'\")"
   ]
  },
  {
   "cell_type": "markdown",
   "id": "9d345d4a",
   "metadata": {},
   "source": [
    "# Pre-Processing Data Downloads Folder"
   ]
  },
  {
   "cell_type": "code",
   "execution_count": 4,
   "id": "37c521d1",
   "metadata": {},
   "outputs": [
    {
     "data": {
      "text/plain": [
       "['Rectangle',\n",
       " '__builtins__',\n",
       " '__cached__',\n",
       " '__doc__',\n",
       " '__file__',\n",
       " '__loader__',\n",
       " '__name__',\n",
       " '__package__',\n",
       " '__spec__',\n",
       " 'add_path_classification',\n",
       " 'add_size_columns',\n",
       " 'check_unique_column',\n",
       " 'classify_document_age',\n",
       " 'classify_extensions',\n",
       " 'classify_path',\n",
       " 'classify_size',\n",
       " 'classify_source',\n",
       " 'clean_filename_column',\n",
       " 'clean_source',\n",
       " 'datetime',\n",
       " 'extract_path_levels',\n",
       " 'get_other_filetypes',\n",
       " 'handle_missing_extensions',\n",
       " 'normalize_extensions',\n",
       " 'pd',\n",
       " 'plot_filetype_distribution',\n",
       " 'plot_usia_dokumen',\n",
       " 'plt',\n",
       " 'recover_extensions_from_filename',\n",
       " 'refine_filetypes',\n",
       " 'standardize_path',\n",
       " 'summarize_filetypes']"
      ]
     },
     "execution_count": 4,
     "metadata": {},
     "output_type": "execute_result"
    }
   ],
   "source": [
    "# Mengecek fungsi apa saja di dalam file\n",
    "import preprocessing_utils\n",
    "dir(preprocessing_utils)"
   ]
  },
  {
   "cell_type": "markdown",
   "id": "f8b729f7",
   "metadata": {},
   "source": [
    "## Pre-Processing FileName"
   ]
  },
  {
   "cell_type": "code",
   "execution_count": 5,
   "id": "30570e1e",
   "metadata": {},
   "outputs": [
    {
     "data": {
      "text/plain": [
       "Index(['FileName', 'FileExt', 'DateModified', 'Size_KB', 'Size_GB', 'Source',\n",
       "       'Path', 'SimplePath', 'ParentPath'],\n",
       "      dtype='object')"
      ]
     },
     "execution_count": 5,
     "metadata": {},
     "output_type": "execute_result"
    }
   ],
   "source": [
    "df_downloads.columns"
   ]
  },
  {
   "cell_type": "code",
   "execution_count": 6,
   "id": "0e50f67a",
   "metadata": {},
   "outputs": [],
   "source": [
    "# Salin DataFrame untuk keamanan\n",
    "df = df_downloads.copy()"
   ]
  },
  {
   "cell_type": "code",
   "execution_count": 7,
   "id": "994bf980",
   "metadata": {},
   "outputs": [],
   "source": [
    "# 1. Praproses nama file\n",
    "df = pu.clean_filename_column(df)"
   ]
  },
  {
   "cell_type": "markdown",
   "id": "8c1c2b23",
   "metadata": {},
   "source": [
    "## Pre-Processing FileExt"
   ]
  },
  {
   "cell_type": "code",
   "execution_count": 8,
   "id": "f86f5f37",
   "metadata": {},
   "outputs": [
    {
     "name": "stdout",
     "output_type": "stream",
     "text": [
      "✅ Ekstensi dipulihkan dari FileName: 552 file\n"
     ]
    }
   ],
   "source": [
    "# 2. Normalisasi dan Pulihkan Ekstensi\n",
    "df = pu.normalize_extensions(df)\n",
    "df = pu.recover_extensions_from_filename(df)\n",
    "df = pu.handle_missing_extensions(df)"
   ]
  },
  {
   "cell_type": "code",
   "execution_count": 9,
   "id": "675c4a3a",
   "metadata": {},
   "outputs": [],
   "source": [
    "# 3. Klasifikasi File berdasarkan Ekstensi\n",
    "df = pu.classify_extensions(df)"
   ]
  },
  {
   "cell_type": "markdown",
   "id": "ad9124f8",
   "metadata": {},
   "source": [
    "## Pre-Processing DateModified"
   ]
  },
  {
   "cell_type": "code",
   "execution_count": 10,
   "id": "d4899c7f",
   "metadata": {},
   "outputs": [
    {
     "name": "stderr",
     "output_type": "stream",
     "text": [
      "c:\\Users\\ASUS\\project-portfolio\\projects\\data-management-hcml\\preprocessing_utils.py:241: UserWarning: Parsing dates in %Y-%m-%d %H:%M:%S.%f format when dayfirst=True was specified. Pass `dayfirst=False` or specify a format to silence this warning.\n",
      "  df[date_col] = pd.to_datetime(df[date_col], errors='coerce', dayfirst=True)\n"
     ]
    }
   ],
   "source": [
    "# 4. Tanggal & Usia Dokumen\n",
    "df = pu.classify_document_age(df)"
   ]
  },
  {
   "cell_type": "code",
   "execution_count": 11,
   "id": "30428481",
   "metadata": {},
   "outputs": [
    {
     "data": {
      "image/png": "[encoded data removed]",
      "text/plain": [
       "<Figure size 640x480 with 1 Axes>"
      ]
     },
     "metadata": {},
     "output_type": "display_data"
    }
   ],
   "source": [
    "# 5. Usia Dokumen\n",
    "pu.plot_usia_dokumen(df)"
   ]
  },
  {
   "cell_type": "markdown",
   "id": "65432e7a",
   "metadata": {},
   "source": [
    "## Pre-Processing Size"
   ]
  },
  {
   "cell_type": "code",
   "execution_count": 12,
   "id": "dacbd701",
   "metadata": {},
   "outputs": [],
   "source": [
    "# 6. Ukuran File\n",
    "df = pu.add_size_columns(df)"
   ]
  },
  {
   "cell_type": "markdown",
   "id": "0abdd6b5",
   "metadata": {},
   "source": [
    "## Pre-Processing Source"
   ]
  },
  {
   "cell_type": "code",
   "execution_count": 13,
   "id": "6d828937",
   "metadata": {},
   "outputs": [],
   "source": [
    "# 7. Sumber File\n",
    "df = pu.clean_source(df)"
   ]
  },
  {
   "cell_type": "markdown",
   "id": "7d7a2624",
   "metadata": {},
   "source": [
    "## Pre-Processing Path"
   ]
  },
  {
   "cell_type": "code",
   "execution_count": 14,
   "id": "5cdffa50",
   "metadata": {},
   "outputs": [],
   "source": [
    "# 8. Path File\n",
    "df = pu.standardize_path(df)\n",
    "df = pu.extract_path_levels(df)\n",
    "df = pu.add_path_classification(df)"
   ]
  },
  {
   "cell_type": "markdown",
   "id": "d1addc9d",
   "metadata": {},
   "source": [
    "## Pre-Processing Visualization and Refinement FileExt"
   ]
  },
  {
   "cell_type": "code",
   "execution_count": 15,
   "id": "825c7b80",
   "metadata": {},
   "outputs": [
    {
     "data": {
      "image/png": "[encoded data removed]",
      "text/plain": [
       "<Figure size 700x700 with 1 Axes>"
      ]
     },
     "metadata": {},
     "output_type": "display_data"
    }
   ],
   "source": [
    "# 9. Analisis & Visualisasi\n",
    "summary = pu.summarize_filetypes(df)\n",
    "pu.plot_filetype_distribution(summary)"
   ]
  },
  {
   "cell_type": "code",
   "execution_count": 16,
   "id": "bf6f1070",
   "metadata": {},
   "outputs": [],
   "source": [
    "pd.set_option('display.max_rows', None)  # Menampilkan semua baris"
   ]
  },
  {
   "cell_type": "code",
   "execution_count": 20,
   "id": "1b1529f8",
   "metadata": {},
   "outputs": [
    {
     "data": {
      "text/plain": [
       "FileExt\n",
       "unknown    547\n",
       "Name: count, dtype: int64"
      ]
     },
     "execution_count": 20,
     "metadata": {},
     "output_type": "execute_result"
    }
   ],
   "source": [
    "df[df['FileType'] == 'unknown']['FileExt'].value_counts()"
   ]
  },
  {
   "cell_type": "code",
   "execution_count": null,
   "id": "36982c08",
   "metadata": {},
   "outputs": [],
   "source": []
  }
 ],
 "metadata": {
  "kernelspec": {
   "display_name": "base",
   "language": "python",
   "name": "python3"
  },
  "language_info": {
   "codemirror_mode": {
    "name": "ipython",
    "version": 3
   },
   "file_extension": ".py",
   "mimetype": "text/x-python",
   "name": "python",
   "nbconvert_exporter": "python",
   "pygments_lexer": "ipython3",
   "version": "3.12.4"
  }
 },
 "nbformat": 4,
 "nbformat_minor": 5
}
