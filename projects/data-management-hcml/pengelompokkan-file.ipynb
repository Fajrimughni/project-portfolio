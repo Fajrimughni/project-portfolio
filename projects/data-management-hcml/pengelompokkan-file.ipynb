{
 "cells": [
  {
   "cell_type": "code",
   "execution_count": 1,
   "id": "dd65279e",
   "metadata": {},
   "outputs": [],
   "source": [
    "filetype_groups = {\n",
    "    \"Dokumen & Teks\": [\"document\", \"text\", \"spreadsheet\", \"presentation\", \"notebook\", \"subtitle\"],\n",
    "    \"Web & Kode\": [\"web\", \"code\", \"config\", \"package\", \"project\"],\n",
    "    \"Media\": [\"image\", \"video\", \"audio\", \"design\", \"cad\"],\n",
    "    \"GIS & Geoscience\": [\"gis\", \"geoscience\"],\n",
    "    \"Data & Sistem\": [\"data\", \"system\", \"archive\", \"security\"],\n",
    "    \"Lainnya\": [\"unknown\"]\n",
    "}"
   ]
  },
  {
   "cell_type": "markdown",
   "id": "dda19d41",
   "metadata": {},
   "source": [
    "TOLONG BACA LANGKAH SETELAH CHECK-OUTPUT (PENCOCOKAN KLASIFIKASI FILE AWAL DENGAN PACKAGE MANUAL & ML) DI NOTEPAD"
   ]
  },
  {
   "cell_type": "markdown",
   "id": "9b7abbc9",
   "metadata": {},
   "source": [
    "SELANJUTNYA TOLONG DIBUATKAN KELOMPOK2 DAN MULAI PEMINDAHAN FILE BERD. KOLOM SPESIFIK YANG BARU!"
   ]
  },
  {
   "cell_type": "code",
   "execution_count": null,
   "id": "0b2b96ba",
   "metadata": {},
   "outputs": [],
   "source": []
  }
 ],
 "metadata": {
  "kernelspec": {
   "display_name": "base",
   "language": "python",
   "name": "python3"
  },
  "language_info": {
   "codemirror_mode": {
    "name": "ipython",
    "version": 3
   },
   "file_extension": ".py",
   "mimetype": "text/x-python",
   "name": "python",
   "nbconvert_exporter": "python",
   "pygments_lexer": "ipython3",
   "version": "3.12.4"
  }
 },
 "nbformat": 4,
 "nbformat_minor": 5
}
