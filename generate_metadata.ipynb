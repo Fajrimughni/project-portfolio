{
 "cells": [
  {
   "cell_type": "code",
   "execution_count": 1,
   "metadata": {},
   "outputs": [],
   "source": [
    "import os\n",
    "import csv"
   ]
  },
  {
   "cell_type": "code",
   "execution_count": 2,
   "id": "1490ff64",
   "metadata": {},
   "outputs": [],
   "source": [
    "root_folder = r\"C:\\Users\\ASUS\\project-portfolio\""
   ]
  },
  {
   "cell_type": "code",
   "execution_count": 3,
   "id": "dd8602e3",
   "metadata": {},
   "outputs": [],
   "source": [
    "output_csv = os.path.join(root_folder, \"metadata.csv\")"
   ]
  },
  {
   "cell_type": "code",
   "execution_count": 4,
   "id": "0ff228d4",
   "metadata": {},
   "outputs": [],
   "source": [
    "rows = []"
   ]
  },
  {
   "cell_type": "code",
   "execution_count": 5,
   "id": "edcd0202",
   "metadata": {},
   "outputs": [],
   "source": [
    "for subdir, dirs, files in os.walk(root_folder):\n",
    "    for file in files:\n",
    "        try:\n",
    "            filepath = os.path.join(subdir, file)\n",
    "            relpath = os.path.relpath(filepath, root_folder)\n",
    "            size_mb = round(os.path.getsize(filepath) / (1024 * 1024), 2)\n",
    "            filename, ext = os.path.splitext(file)\n",
    "            rows.append([file, relpath, size_mb, ext.lower()])\n",
    "        except Exception as e:\n",
    "            print(f\"❌ Error on: {file}\\n    Path: {filepath}\\n    Reason: {e}\")"
   ]
  },
  {
   "cell_type": "code",
   "execution_count": 6,
   "id": "50d2de95",
   "metadata": {},
   "outputs": [],
   "source": [
    "with open(output_csv, mode='w', newline='', encoding='utf-8') as f:\n",
    "    writer = csv.writer(f)\n",
    "    writer.writerow(['filename', 'relative_path', 'filesize_mb', 'extension'])\n",
    "    writer.writerows(rows)"
   ]
  },
  {
   "cell_type": "code",
   "execution_count": null,
   "id": "aa28b757",
   "metadata": {},
   "outputs": [],
   "source": []
  }
 ],
 "metadata": {
  "kernelspec": {
   "display_name": "base",
   "language": "python",
   "name": "python3"
  },
  "language_info": {
   "codemirror_mode": {
    "name": "ipython",
    "version": 3
   },
   "file_extension": ".py",
   "mimetype": "text/x-python",
   "name": "python",
   "nbconvert_exporter": "python",
   "pygments_lexer": "ipython3",
   "version": "3.12.4"
  }
 },
 "nbformat": 4,
 "nbformat_minor": 5
}
